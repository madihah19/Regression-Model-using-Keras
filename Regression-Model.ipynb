{
 "cells": [
  {
   "cell_type": "markdown",
   "metadata": {},
   "source": [
    "# A. Build a baseline model"
   ]
  },
  {
   "cell_type": "markdown",
   "metadata": {},
   "source": [
    "### Libraries installation"
   ]
  },
  {
   "cell_type": "code",
   "execution_count": 42,
   "metadata": {},
   "outputs": [],
   "source": [
    "#!pip install numpy==2.0.2\n",
    "#!pip install pandas==2.2.2\n",
    "#!pip install tensorflow_cpu==2.18.0\n",
    "#1pip install Scikit-learn"
   ]
  },
  {
   "cell_type": "markdown",
   "metadata": {},
   "source": [
    "### Get and clean up data"
   ]
  },
  {
   "cell_type": "code",
   "execution_count": 43,
   "metadata": {},
   "outputs": [
    {
     "data": {
      "text/html": [
       "<div>\n",
       "<style scoped>\n",
       "    .dataframe tbody tr th:only-of-type {\n",
       "        vertical-align: middle;\n",
       "    }\n",
       "\n",
       "    .dataframe tbody tr th {\n",
       "        vertical-align: top;\n",
       "    }\n",
       "\n",
       "    .dataframe thead th {\n",
       "        text-align: right;\n",
       "    }\n",
       "</style>\n",
       "<table border=\"1\" class=\"dataframe\">\n",
       "  <thead>\n",
       "    <tr style=\"text-align: right;\">\n",
       "      <th></th>\n",
       "      <th>Cement</th>\n",
       "      <th>Blast Furnace Slag</th>\n",
       "      <th>Fly Ash</th>\n",
       "      <th>Water</th>\n",
       "      <th>Superplasticizer</th>\n",
       "      <th>Coarse Aggregate</th>\n",
       "      <th>Fine Aggregate</th>\n",
       "      <th>Age</th>\n",
       "      <th>Strength</th>\n",
       "    </tr>\n",
       "  </thead>\n",
       "  <tbody>\n",
       "    <tr>\n",
       "      <th>0</th>\n",
       "      <td>540.0</td>\n",
       "      <td>0.0</td>\n",
       "      <td>0.0</td>\n",
       "      <td>162.0</td>\n",
       "      <td>2.5</td>\n",
       "      <td>1040.0</td>\n",
       "      <td>676.0</td>\n",
       "      <td>28</td>\n",
       "      <td>79.99</td>\n",
       "    </tr>\n",
       "    <tr>\n",
       "      <th>1</th>\n",
       "      <td>540.0</td>\n",
       "      <td>0.0</td>\n",
       "      <td>0.0</td>\n",
       "      <td>162.0</td>\n",
       "      <td>2.5</td>\n",
       "      <td>1055.0</td>\n",
       "      <td>676.0</td>\n",
       "      <td>28</td>\n",
       "      <td>61.89</td>\n",
       "    </tr>\n",
       "    <tr>\n",
       "      <th>2</th>\n",
       "      <td>332.5</td>\n",
       "      <td>142.5</td>\n",
       "      <td>0.0</td>\n",
       "      <td>228.0</td>\n",
       "      <td>0.0</td>\n",
       "      <td>932.0</td>\n",
       "      <td>594.0</td>\n",
       "      <td>270</td>\n",
       "      <td>40.27</td>\n",
       "    </tr>\n",
       "    <tr>\n",
       "      <th>3</th>\n",
       "      <td>332.5</td>\n",
       "      <td>142.5</td>\n",
       "      <td>0.0</td>\n",
       "      <td>228.0</td>\n",
       "      <td>0.0</td>\n",
       "      <td>932.0</td>\n",
       "      <td>594.0</td>\n",
       "      <td>365</td>\n",
       "      <td>41.05</td>\n",
       "    </tr>\n",
       "    <tr>\n",
       "      <th>4</th>\n",
       "      <td>198.6</td>\n",
       "      <td>132.4</td>\n",
       "      <td>0.0</td>\n",
       "      <td>192.0</td>\n",
       "      <td>0.0</td>\n",
       "      <td>978.4</td>\n",
       "      <td>825.5</td>\n",
       "      <td>360</td>\n",
       "      <td>44.30</td>\n",
       "    </tr>\n",
       "  </tbody>\n",
       "</table>\n",
       "</div>"
      ],
      "text/plain": [
       "   Cement  Blast Furnace Slag  Fly Ash  Water  Superplasticizer  \\\n",
       "0   540.0                 0.0      0.0  162.0               2.5   \n",
       "1   540.0                 0.0      0.0  162.0               2.5   \n",
       "2   332.5               142.5      0.0  228.0               0.0   \n",
       "3   332.5               142.5      0.0  228.0               0.0   \n",
       "4   198.6               132.4      0.0  192.0               0.0   \n",
       "\n",
       "   Coarse Aggregate  Fine Aggregate  Age  Strength  \n",
       "0            1040.0           676.0   28     79.99  \n",
       "1            1055.0           676.0   28     61.89  \n",
       "2             932.0           594.0  270     40.27  \n",
       "3             932.0           594.0  365     41.05  \n",
       "4             978.4           825.5  360     44.30  "
      ]
     },
     "execution_count": 43,
     "metadata": {},
     "output_type": "execute_result"
    }
   ],
   "source": [
    "import pandas as pd\n",
    "import numpy as np\n",
    "import keras\n",
    "\n",
    "import warnings\n",
    "warnings.simplefilter('ignore', FutureWarning)\n",
    "\n",
    "filepath = \"https://cocl.us/concrete_data\"\n",
    "concrete_data = pd.read_csv(filepath)\n",
    "concrete_data.head()"
   ]
  },
  {
   "cell_type": "code",
   "execution_count": 44,
   "metadata": {},
   "outputs": [
    {
     "data": {
      "text/plain": [
       "(1030, 9)"
      ]
     },
     "execution_count": 44,
     "metadata": {},
     "output_type": "execute_result"
    }
   ],
   "source": [
    "concrete_data.shape"
   ]
  },
  {
   "cell_type": "markdown",
   "metadata": {},
   "source": [
    "So, there are approximately 1000 samples to train our model on. Because of the few samples, we have to be careful not to overfit the training data.\n",
    "\n",
    "Let's check the dataset for any missing values."
   ]
  },
  {
   "cell_type": "code",
   "execution_count": 45,
   "metadata": {},
   "outputs": [
    {
     "data": {
      "text/html": [
       "<div>\n",
       "<style scoped>\n",
       "    .dataframe tbody tr th:only-of-type {\n",
       "        vertical-align: middle;\n",
       "    }\n",
       "\n",
       "    .dataframe tbody tr th {\n",
       "        vertical-align: top;\n",
       "    }\n",
       "\n",
       "    .dataframe thead th {\n",
       "        text-align: right;\n",
       "    }\n",
       "</style>\n",
       "<table border=\"1\" class=\"dataframe\">\n",
       "  <thead>\n",
       "    <tr style=\"text-align: right;\">\n",
       "      <th></th>\n",
       "      <th>Cement</th>\n",
       "      <th>Blast Furnace Slag</th>\n",
       "      <th>Fly Ash</th>\n",
       "      <th>Water</th>\n",
       "      <th>Superplasticizer</th>\n",
       "      <th>Coarse Aggregate</th>\n",
       "      <th>Fine Aggregate</th>\n",
       "      <th>Age</th>\n",
       "      <th>Strength</th>\n",
       "    </tr>\n",
       "  </thead>\n",
       "  <tbody>\n",
       "    <tr>\n",
       "      <th>count</th>\n",
       "      <td>1030.000000</td>\n",
       "      <td>1030.000000</td>\n",
       "      <td>1030.000000</td>\n",
       "      <td>1030.000000</td>\n",
       "      <td>1030.000000</td>\n",
       "      <td>1030.000000</td>\n",
       "      <td>1030.000000</td>\n",
       "      <td>1030.000000</td>\n",
       "      <td>1030.000000</td>\n",
       "    </tr>\n",
       "    <tr>\n",
       "      <th>mean</th>\n",
       "      <td>281.167864</td>\n",
       "      <td>73.895825</td>\n",
       "      <td>54.188350</td>\n",
       "      <td>181.567282</td>\n",
       "      <td>6.204660</td>\n",
       "      <td>972.918932</td>\n",
       "      <td>773.580485</td>\n",
       "      <td>45.662136</td>\n",
       "      <td>35.817961</td>\n",
       "    </tr>\n",
       "    <tr>\n",
       "      <th>std</th>\n",
       "      <td>104.506364</td>\n",
       "      <td>86.279342</td>\n",
       "      <td>63.997004</td>\n",
       "      <td>21.354219</td>\n",
       "      <td>5.973841</td>\n",
       "      <td>77.753954</td>\n",
       "      <td>80.175980</td>\n",
       "      <td>63.169912</td>\n",
       "      <td>16.705742</td>\n",
       "    </tr>\n",
       "    <tr>\n",
       "      <th>min</th>\n",
       "      <td>102.000000</td>\n",
       "      <td>0.000000</td>\n",
       "      <td>0.000000</td>\n",
       "      <td>121.800000</td>\n",
       "      <td>0.000000</td>\n",
       "      <td>801.000000</td>\n",
       "      <td>594.000000</td>\n",
       "      <td>1.000000</td>\n",
       "      <td>2.330000</td>\n",
       "    </tr>\n",
       "    <tr>\n",
       "      <th>25%</th>\n",
       "      <td>192.375000</td>\n",
       "      <td>0.000000</td>\n",
       "      <td>0.000000</td>\n",
       "      <td>164.900000</td>\n",
       "      <td>0.000000</td>\n",
       "      <td>932.000000</td>\n",
       "      <td>730.950000</td>\n",
       "      <td>7.000000</td>\n",
       "      <td>23.710000</td>\n",
       "    </tr>\n",
       "    <tr>\n",
       "      <th>50%</th>\n",
       "      <td>272.900000</td>\n",
       "      <td>22.000000</td>\n",
       "      <td>0.000000</td>\n",
       "      <td>185.000000</td>\n",
       "      <td>6.400000</td>\n",
       "      <td>968.000000</td>\n",
       "      <td>779.500000</td>\n",
       "      <td>28.000000</td>\n",
       "      <td>34.445000</td>\n",
       "    </tr>\n",
       "    <tr>\n",
       "      <th>75%</th>\n",
       "      <td>350.000000</td>\n",
       "      <td>142.950000</td>\n",
       "      <td>118.300000</td>\n",
       "      <td>192.000000</td>\n",
       "      <td>10.200000</td>\n",
       "      <td>1029.400000</td>\n",
       "      <td>824.000000</td>\n",
       "      <td>56.000000</td>\n",
       "      <td>46.135000</td>\n",
       "    </tr>\n",
       "    <tr>\n",
       "      <th>max</th>\n",
       "      <td>540.000000</td>\n",
       "      <td>359.400000</td>\n",
       "      <td>200.100000</td>\n",
       "      <td>247.000000</td>\n",
       "      <td>32.200000</td>\n",
       "      <td>1145.000000</td>\n",
       "      <td>992.600000</td>\n",
       "      <td>365.000000</td>\n",
       "      <td>82.600000</td>\n",
       "    </tr>\n",
       "  </tbody>\n",
       "</table>\n",
       "</div>"
      ],
      "text/plain": [
       "            Cement  Blast Furnace Slag      Fly Ash        Water  \\\n",
       "count  1030.000000         1030.000000  1030.000000  1030.000000   \n",
       "mean    281.167864           73.895825    54.188350   181.567282   \n",
       "std     104.506364           86.279342    63.997004    21.354219   \n",
       "min     102.000000            0.000000     0.000000   121.800000   \n",
       "25%     192.375000            0.000000     0.000000   164.900000   \n",
       "50%     272.900000           22.000000     0.000000   185.000000   \n",
       "75%     350.000000          142.950000   118.300000   192.000000   \n",
       "max     540.000000          359.400000   200.100000   247.000000   \n",
       "\n",
       "       Superplasticizer  Coarse Aggregate  Fine Aggregate          Age  \\\n",
       "count       1030.000000       1030.000000     1030.000000  1030.000000   \n",
       "mean           6.204660        972.918932      773.580485    45.662136   \n",
       "std            5.973841         77.753954       80.175980    63.169912   \n",
       "min            0.000000        801.000000      594.000000     1.000000   \n",
       "25%            0.000000        932.000000      730.950000     7.000000   \n",
       "50%            6.400000        968.000000      779.500000    28.000000   \n",
       "75%           10.200000       1029.400000      824.000000    56.000000   \n",
       "max           32.200000       1145.000000      992.600000   365.000000   \n",
       "\n",
       "          Strength  \n",
       "count  1030.000000  \n",
       "mean     35.817961  \n",
       "std      16.705742  \n",
       "min       2.330000  \n",
       "25%      23.710000  \n",
       "50%      34.445000  \n",
       "75%      46.135000  \n",
       "max      82.600000  "
      ]
     },
     "execution_count": 45,
     "metadata": {},
     "output_type": "execute_result"
    }
   ],
   "source": [
    "concrete_data.describe()"
   ]
  },
  {
   "cell_type": "code",
   "execution_count": 46,
   "metadata": {},
   "outputs": [
    {
     "data": {
      "text/plain": [
       "Cement                0\n",
       "Blast Furnace Slag    0\n",
       "Fly Ash               0\n",
       "Water                 0\n",
       "Superplasticizer      0\n",
       "Coarse Aggregate      0\n",
       "Fine Aggregate        0\n",
       "Age                   0\n",
       "Strength              0\n",
       "dtype: int64"
      ]
     },
     "execution_count": 46,
     "metadata": {},
     "output_type": "execute_result"
    }
   ],
   "source": [
    "concrete_data.isnull().sum()"
   ]
  },
  {
   "cell_type": "markdown",
   "metadata": {},
   "source": [
    "#### Split data into predictors and target\n",
    "The target variable in this problem is the concrete sample strength. Therefore, our predictors will be all the other columns."
   ]
  },
  {
   "cell_type": "code",
   "execution_count": 47,
   "metadata": {},
   "outputs": [],
   "source": [
    "concrete_data_columns = concrete_data.columns\n",
    "predictors = concrete_data[concrete_data_columns[concrete_data_columns != 'Strength']] # all columns except Strength\n",
    "target = concrete_data['Strength'] # Strength column"
   ]
  },
  {
   "cell_type": "code",
   "execution_count": 48,
   "metadata": {},
   "outputs": [
    {
     "data": {
      "text/html": [
       "<div>\n",
       "<style scoped>\n",
       "    .dataframe tbody tr th:only-of-type {\n",
       "        vertical-align: middle;\n",
       "    }\n",
       "\n",
       "    .dataframe tbody tr th {\n",
       "        vertical-align: top;\n",
       "    }\n",
       "\n",
       "    .dataframe thead th {\n",
       "        text-align: right;\n",
       "    }\n",
       "</style>\n",
       "<table border=\"1\" class=\"dataframe\">\n",
       "  <thead>\n",
       "    <tr style=\"text-align: right;\">\n",
       "      <th></th>\n",
       "      <th>Cement</th>\n",
       "      <th>Blast Furnace Slag</th>\n",
       "      <th>Fly Ash</th>\n",
       "      <th>Water</th>\n",
       "      <th>Superplasticizer</th>\n",
       "      <th>Coarse Aggregate</th>\n",
       "      <th>Fine Aggregate</th>\n",
       "      <th>Age</th>\n",
       "    </tr>\n",
       "  </thead>\n",
       "  <tbody>\n",
       "    <tr>\n",
       "      <th>0</th>\n",
       "      <td>540.0</td>\n",
       "      <td>0.0</td>\n",
       "      <td>0.0</td>\n",
       "      <td>162.0</td>\n",
       "      <td>2.5</td>\n",
       "      <td>1040.0</td>\n",
       "      <td>676.0</td>\n",
       "      <td>28</td>\n",
       "    </tr>\n",
       "    <tr>\n",
       "      <th>1</th>\n",
       "      <td>540.0</td>\n",
       "      <td>0.0</td>\n",
       "      <td>0.0</td>\n",
       "      <td>162.0</td>\n",
       "      <td>2.5</td>\n",
       "      <td>1055.0</td>\n",
       "      <td>676.0</td>\n",
       "      <td>28</td>\n",
       "    </tr>\n",
       "    <tr>\n",
       "      <th>2</th>\n",
       "      <td>332.5</td>\n",
       "      <td>142.5</td>\n",
       "      <td>0.0</td>\n",
       "      <td>228.0</td>\n",
       "      <td>0.0</td>\n",
       "      <td>932.0</td>\n",
       "      <td>594.0</td>\n",
       "      <td>270</td>\n",
       "    </tr>\n",
       "    <tr>\n",
       "      <th>3</th>\n",
       "      <td>332.5</td>\n",
       "      <td>142.5</td>\n",
       "      <td>0.0</td>\n",
       "      <td>228.0</td>\n",
       "      <td>0.0</td>\n",
       "      <td>932.0</td>\n",
       "      <td>594.0</td>\n",
       "      <td>365</td>\n",
       "    </tr>\n",
       "    <tr>\n",
       "      <th>4</th>\n",
       "      <td>198.6</td>\n",
       "      <td>132.4</td>\n",
       "      <td>0.0</td>\n",
       "      <td>192.0</td>\n",
       "      <td>0.0</td>\n",
       "      <td>978.4</td>\n",
       "      <td>825.5</td>\n",
       "      <td>360</td>\n",
       "    </tr>\n",
       "  </tbody>\n",
       "</table>\n",
       "</div>"
      ],
      "text/plain": [
       "   Cement  Blast Furnace Slag  Fly Ash  Water  Superplasticizer  \\\n",
       "0   540.0                 0.0      0.0  162.0               2.5   \n",
       "1   540.0                 0.0      0.0  162.0               2.5   \n",
       "2   332.5               142.5      0.0  228.0               0.0   \n",
       "3   332.5               142.5      0.0  228.0               0.0   \n",
       "4   198.6               132.4      0.0  192.0               0.0   \n",
       "\n",
       "   Coarse Aggregate  Fine Aggregate  Age  \n",
       "0            1040.0           676.0   28  \n",
       "1            1055.0           676.0   28  \n",
       "2             932.0           594.0  270  \n",
       "3             932.0           594.0  365  \n",
       "4             978.4           825.5  360  "
      ]
     },
     "execution_count": 48,
     "metadata": {},
     "output_type": "execute_result"
    }
   ],
   "source": [
    "predictors.head()"
   ]
  },
  {
   "cell_type": "code",
   "execution_count": 49,
   "metadata": {},
   "outputs": [
    {
     "data": {
      "text/plain": [
       "0    79.99\n",
       "1    61.89\n",
       "2    40.27\n",
       "3    41.05\n",
       "4    44.30\n",
       "Name: Strength, dtype: float64"
      ]
     },
     "execution_count": 49,
     "metadata": {},
     "output_type": "execute_result"
    }
   ],
   "source": [
    "target.head()"
   ]
  },
  {
   "cell_type": "markdown",
   "metadata": {},
   "source": [
    "Let's save the number of predictors to n_cols since we will need this number when building our network."
   ]
  },
  {
   "cell_type": "code",
   "execution_count": 50,
   "metadata": {},
   "outputs": [],
   "source": [
    "n_cols = predictors.shape[1] # number of predictors"
   ]
  },
  {
   "cell_type": "markdown",
   "metadata": {},
   "source": [
    "###  Import Keras Packages\n",
    "Let's import the rest of the packages from the Keras library that we will need to build our regression model."
   ]
  },
  {
   "cell_type": "code",
   "execution_count": 51,
   "metadata": {},
   "outputs": [],
   "source": [
    "from keras.models import Sequential\n",
    "from keras.layers import Dense\n",
    "from keras.layers import Input"
   ]
  },
  {
   "cell_type": "markdown",
   "metadata": {},
   "source": [
    "# Tasks"
   ]
  },
  {
   "cell_type": "markdown",
   "metadata": {},
   "source": [
    "## A. Build a baseline model"
   ]
  },
  {
   "cell_type": "code",
   "execution_count": 52,
   "metadata": {},
   "outputs": [],
   "source": [
    "# define regression model\n",
    "def regression_model_A():\n",
    "    # create model\n",
    "    model = Sequential()\n",
    "    model.add(Input(shape=(n_cols,)))\n",
    "    model.add(Dense(10, activation='relu'))\n",
    "    model.add(Dense(1))\n",
    "    \n",
    "    # compile model\n",
    "    model.compile(optimizer='adam', loss='mean_squared_error')\n",
    "    return model"
   ]
  },
  {
   "cell_type": "code",
   "execution_count": 53,
   "metadata": {},
   "outputs": [],
   "source": [
    "model = regression_model_A()"
   ]
  },
  {
   "cell_type": "markdown",
   "metadata": {},
   "source": [
    "1. Randomly split the data into a training and test sets by holding 30% of the data for testing. You can use the train_test_split helper function from Scikit-learn."
   ]
  },
  {
   "cell_type": "code",
   "execution_count": 54,
   "metadata": {},
   "outputs": [],
   "source": [
    "from sklearn.model_selection import train_test_split\n",
    "\n",
    "# Split the data into training and test sets\n",
    "X_train, X_test, y_train, y_test = train_test_split(predictors, target, test_size=0.3, random_state=42)"
   ]
  },
  {
   "cell_type": "markdown",
   "metadata": {},
   "source": [
    "2. Train the model on the training data using 50 epochs."
   ]
  },
  {
   "cell_type": "code",
   "execution_count": 55,
   "metadata": {},
   "outputs": [
    {
     "name": "stdout",
     "output_type": "stream",
     "text": [
      "Epoch 1/50\n"
     ]
    },
    {
     "name": "stdout",
     "output_type": "stream",
     "text": [
      "16/16 - 0s - 31ms/step - loss: 13168.2178 - val_loss: 7978.4414\n",
      "Epoch 2/50\n",
      "16/16 - 0s - 6ms/step - loss: 7022.1865 - val_loss: 6843.1963\n",
      "Epoch 3/50\n",
      "16/16 - 0s - 6ms/step - loss: 6579.1260 - val_loss: 6194.7939\n",
      "Epoch 4/50\n",
      "16/16 - 0s - 6ms/step - loss: 5909.3325 - val_loss: 5803.1035\n",
      "Epoch 5/50\n",
      "16/16 - 0s - 6ms/step - loss: 5413.1460 - val_loss: 5173.5679\n",
      "Epoch 6/50\n",
      "16/16 - 0s - 6ms/step - loss: 4852.9805 - val_loss: 4634.2832\n",
      "Epoch 7/50\n",
      "16/16 - 0s - 6ms/step - loss: 4312.4097 - val_loss: 4083.2759\n",
      "Epoch 8/50\n",
      "16/16 - 0s - 6ms/step - loss: 3705.8398 - val_loss: 3379.6772\n",
      "Epoch 9/50\n",
      "16/16 - 0s - 5ms/step - loss: 3056.0100 - val_loss: 2745.5723\n",
      "Epoch 10/50\n",
      "16/16 - 0s - 6ms/step - loss: 2437.7117 - val_loss: 2096.8604\n",
      "Epoch 11/50\n",
      "16/16 - 0s - 6ms/step - loss: 1909.0525 - val_loss: 1688.9758\n",
      "Epoch 12/50\n",
      "16/16 - 0s - 7ms/step - loss: 1565.4711 - val_loss: 1371.9359\n",
      "Epoch 13/50\n",
      "16/16 - 0s - 6ms/step - loss: 1326.5046 - val_loss: 1195.0773\n",
      "Epoch 14/50\n",
      "16/16 - 0s - 6ms/step - loss: 1183.4240 - val_loss: 1074.0486\n",
      "Epoch 15/50\n",
      "16/16 - 0s - 5ms/step - loss: 1077.6893 - val_loss: 989.2613\n",
      "Epoch 16/50\n",
      "16/16 - 0s - 6ms/step - loss: 994.0208 - val_loss: 907.0196\n",
      "Epoch 17/50\n",
      "16/16 - 0s - 6ms/step - loss: 925.9808 - val_loss: 868.9945\n",
      "Epoch 18/50\n",
      "16/16 - 0s - 6ms/step - loss: 875.5842 - val_loss: 837.0534\n",
      "Epoch 19/50\n",
      "16/16 - 0s - 6ms/step - loss: 834.4308 - val_loss: 791.1276\n",
      "Epoch 20/50\n",
      "16/16 - 0s - 6ms/step - loss: 803.5567 - val_loss: 758.9860\n",
      "Epoch 21/50\n",
      "16/16 - 0s - 6ms/step - loss: 771.7762 - val_loss: 749.4340\n",
      "Epoch 22/50\n",
      "16/16 - 0s - 6ms/step - loss: 739.1533 - val_loss: 697.7383\n",
      "Epoch 23/50\n",
      "16/16 - 0s - 5ms/step - loss: 717.5535 - val_loss: 683.7499\n",
      "Epoch 24/50\n",
      "16/16 - 0s - 6ms/step - loss: 690.0812 - val_loss: 653.5590\n",
      "Epoch 25/50\n",
      "16/16 - 0s - 5ms/step - loss: 666.7940 - val_loss: 634.4432\n",
      "Epoch 26/50\n",
      "16/16 - 0s - 5ms/step - loss: 647.8947 - val_loss: 620.9901\n",
      "Epoch 27/50\n",
      "16/16 - 0s - 5ms/step - loss: 627.1184 - val_loss: 591.4027\n",
      "Epoch 28/50\n",
      "16/16 - 0s - 5ms/step - loss: 604.8129 - val_loss: 585.3613\n",
      "Epoch 29/50\n",
      "16/16 - 0s - 5ms/step - loss: 587.3737 - val_loss: 557.1970\n",
      "Epoch 30/50\n",
      "16/16 - 0s - 5ms/step - loss: 569.2835 - val_loss: 550.1326\n",
      "Epoch 31/50\n",
      "16/16 - 0s - 5ms/step - loss: 555.8617 - val_loss: 525.0079\n",
      "Epoch 32/50\n",
      "16/16 - 0s - 5ms/step - loss: 534.6682 - val_loss: 512.8140\n",
      "Epoch 33/50\n",
      "16/16 - 0s - 5ms/step - loss: 522.4705 - val_loss: 489.8186\n",
      "Epoch 34/50\n",
      "16/16 - 0s - 5ms/step - loss: 504.8606 - val_loss: 481.3644\n",
      "Epoch 35/50\n",
      "16/16 - 0s - 5ms/step - loss: 491.1319 - val_loss: 468.7175\n",
      "Epoch 36/50\n",
      "16/16 - 0s - 6ms/step - loss: 477.7912 - val_loss: 457.6831\n",
      "Epoch 37/50\n",
      "16/16 - 0s - 5ms/step - loss: 466.0680 - val_loss: 434.0027\n",
      "Epoch 38/50\n",
      "16/16 - 0s - 5ms/step - loss: 451.8534 - val_loss: 434.1538\n",
      "Epoch 39/50\n",
      "16/16 - 0s - 5ms/step - loss: 440.0529 - val_loss: 414.2552\n",
      "Epoch 40/50\n",
      "16/16 - 0s - 5ms/step - loss: 429.5426 - val_loss: 411.3175\n",
      "Epoch 41/50\n",
      "16/16 - 0s - 6ms/step - loss: 418.9001 - val_loss: 395.4371\n",
      "Epoch 42/50\n",
      "16/16 - 0s - 6ms/step - loss: 404.6425 - val_loss: 392.6635\n",
      "Epoch 43/50\n",
      "16/16 - 0s - 5ms/step - loss: 394.6852 - val_loss: 369.5945\n",
      "Epoch 44/50\n",
      "16/16 - 0s - 5ms/step - loss: 387.8704 - val_loss: 365.9527\n",
      "Epoch 45/50\n",
      "16/16 - 0s - 5ms/step - loss: 372.7398 - val_loss: 350.9978\n",
      "Epoch 46/50\n",
      "16/16 - 0s - 6ms/step - loss: 363.7203 - val_loss: 349.1815\n",
      "Epoch 47/50\n",
      "16/16 - 0s - 6ms/step - loss: 354.4768 - val_loss: 338.0543\n",
      "Epoch 48/50\n",
      "16/16 - 0s - 5ms/step - loss: 343.6703 - val_loss: 328.9362\n",
      "Epoch 49/50\n",
      "16/16 - 0s - 5ms/step - loss: 335.6013 - val_loss: 320.5939\n",
      "Epoch 50/50\n",
      "16/16 - 0s - 5ms/step - loss: 327.9707 - val_loss: 314.1347\n"
     ]
    },
    {
     "data": {
      "text/plain": [
       "<keras.src.callbacks.history.History at 0x25d666a6600>"
      ]
     },
     "execution_count": 55,
     "metadata": {},
     "output_type": "execute_result"
    }
   ],
   "source": [
    "model.fit(X_train, y_train, validation_split=0.3, epochs=50, verbose=2)"
   ]
  },
  {
   "cell_type": "markdown",
   "metadata": {},
   "source": [
    "3. Evaluate the model on the test data and compute the mean squared error between the predicted concrete strength and the actual concrete strength. You can use the mean_squared_error function from Scikit-learn."
   ]
  },
  {
   "cell_type": "code",
   "execution_count": 56,
   "metadata": {},
   "outputs": [
    {
     "name": "stdout",
     "output_type": "stream",
     "text": [
      "\u001b[1m10/10\u001b[0m \u001b[32m━━━━━━━━━━━━━━━━━━━━\u001b[0m\u001b[37m\u001b[0m \u001b[1m0s\u001b[0m 4ms/step \n",
      "Mean Squared Error on Test Data: 268.00900936862575\n"
     ]
    }
   ],
   "source": [
    "from sklearn.metrics import mean_squared_error\n",
    "# Predict the target values using the model on the test set\n",
    "test_predictions = model.predict(X_test)\n",
    "\n",
    "# Compute the mean squared error on the test set\n",
    "test_mse = mean_squared_error(y_test, test_predictions)\n",
    "print(f\"Mean Squared Error on Test Data: {test_mse}\")"
   ]
  },
  {
   "cell_type": "markdown",
   "metadata": {},
   "source": [
    "4. Repeat steps 1 - 3, 50 times, i.e., create a list of 50 mean squared errors."
   ]
  },
  {
   "cell_type": "code",
   "execution_count": 57,
   "metadata": {},
   "outputs": [
    {
     "name": "stdout",
     "output_type": "stream",
     "text": [
      "\u001b[1m10/10\u001b[0m \u001b[32m━━━━━━━━━━━━━━━━━━━━\u001b[0m\u001b[37m\u001b[0m \u001b[1m0s\u001b[0m 3ms/step \n",
      "\u001b[1m10/10\u001b[0m \u001b[32m━━━━━━━━━━━━━━━━━━━━\u001b[0m\u001b[37m\u001b[0m \u001b[1m0s\u001b[0m 3ms/step \n",
      "\u001b[1m10/10\u001b[0m \u001b[32m━━━━━━━━━━━━━━━━━━━━\u001b[0m\u001b[37m\u001b[0m \u001b[1m0s\u001b[0m 4ms/step \n",
      "\u001b[1m10/10\u001b[0m \u001b[32m━━━━━━━━━━━━━━━━━━━━\u001b[0m\u001b[37m\u001b[0m \u001b[1m0s\u001b[0m 5ms/step \n",
      "\u001b[1m10/10\u001b[0m \u001b[32m━━━━━━━━━━━━━━━━━━━━\u001b[0m\u001b[37m\u001b[0m \u001b[1m0s\u001b[0m 3ms/step \n",
      "\u001b[1m10/10\u001b[0m \u001b[32m━━━━━━━━━━━━━━━━━━━━\u001b[0m\u001b[37m\u001b[0m \u001b[1m0s\u001b[0m 3ms/step \n",
      "\u001b[1m10/10\u001b[0m \u001b[32m━━━━━━━━━━━━━━━━━━━━\u001b[0m\u001b[37m\u001b[0m \u001b[1m0s\u001b[0m 3ms/step \n",
      "\u001b[1m10/10\u001b[0m \u001b[32m━━━━━━━━━━━━━━━━━━━━\u001b[0m\u001b[37m\u001b[0m \u001b[1m0s\u001b[0m 3ms/step \n",
      "\u001b[1m10/10\u001b[0m \u001b[32m━━━━━━━━━━━━━━━━━━━━\u001b[0m\u001b[37m\u001b[0m \u001b[1m0s\u001b[0m 3ms/step \n",
      "\u001b[1m10/10\u001b[0m \u001b[32m━━━━━━━━━━━━━━━━━━━━\u001b[0m\u001b[37m\u001b[0m \u001b[1m0s\u001b[0m 3ms/step \n",
      "\u001b[1m10/10\u001b[0m \u001b[32m━━━━━━━━━━━━━━━━━━━━\u001b[0m\u001b[37m\u001b[0m \u001b[1m0s\u001b[0m 3ms/step \n",
      "\u001b[1m10/10\u001b[0m \u001b[32m━━━━━━━━━━━━━━━━━━━━\u001b[0m\u001b[37m\u001b[0m \u001b[1m0s\u001b[0m 3ms/step \n",
      "\u001b[1m10/10\u001b[0m \u001b[32m━━━━━━━━━━━━━━━━━━━━\u001b[0m\u001b[37m\u001b[0m \u001b[1m0s\u001b[0m 3ms/step \n",
      "\u001b[1m10/10\u001b[0m \u001b[32m━━━━━━━━━━━━━━━━━━━━\u001b[0m\u001b[37m\u001b[0m \u001b[1m0s\u001b[0m 3ms/step \n",
      "\u001b[1m10/10\u001b[0m \u001b[32m━━━━━━━━━━━━━━━━━━━━\u001b[0m\u001b[37m\u001b[0m \u001b[1m0s\u001b[0m 4ms/step \n",
      "\u001b[1m10/10\u001b[0m \u001b[32m━━━━━━━━━━━━━━━━━━━━\u001b[0m\u001b[37m\u001b[0m \u001b[1m0s\u001b[0m 3ms/step \n",
      "\u001b[1m10/10\u001b[0m \u001b[32m━━━━━━━━━━━━━━━━━━━━\u001b[0m\u001b[37m\u001b[0m \u001b[1m0s\u001b[0m 6ms/step \n",
      "\u001b[1m10/10\u001b[0m \u001b[32m━━━━━━━━━━━━━━━━━━━━\u001b[0m\u001b[37m\u001b[0m \u001b[1m0s\u001b[0m 3ms/step \n",
      "\u001b[1m10/10\u001b[0m \u001b[32m━━━━━━━━━━━━━━━━━━━━\u001b[0m\u001b[37m\u001b[0m \u001b[1m0s\u001b[0m 3ms/step \n",
      "\u001b[1m10/10\u001b[0m \u001b[32m━━━━━━━━━━━━━━━━━━━━\u001b[0m\u001b[37m\u001b[0m \u001b[1m0s\u001b[0m 4ms/step \n",
      "\u001b[1m10/10\u001b[0m \u001b[32m━━━━━━━━━━━━━━━━━━━━\u001b[0m\u001b[37m\u001b[0m \u001b[1m0s\u001b[0m 3ms/step \n",
      "\u001b[1m10/10\u001b[0m \u001b[32m━━━━━━━━━━━━━━━━━━━━\u001b[0m\u001b[37m\u001b[0m \u001b[1m0s\u001b[0m 3ms/step \n",
      "\u001b[1m10/10\u001b[0m \u001b[32m━━━━━━━━━━━━━━━━━━━━\u001b[0m\u001b[37m\u001b[0m \u001b[1m0s\u001b[0m 3ms/step \n",
      "\u001b[1m10/10\u001b[0m \u001b[32m━━━━━━━━━━━━━━━━━━━━\u001b[0m\u001b[37m\u001b[0m \u001b[1m0s\u001b[0m 3ms/step \n",
      "\u001b[1m10/10\u001b[0m \u001b[32m━━━━━━━━━━━━━━━━━━━━\u001b[0m\u001b[37m\u001b[0m \u001b[1m0s\u001b[0m 3ms/step \n",
      "\u001b[1m10/10\u001b[0m \u001b[32m━━━━━━━━━━━━━━━━━━━━\u001b[0m\u001b[37m\u001b[0m \u001b[1m0s\u001b[0m 3ms/step \n",
      "\u001b[1m10/10\u001b[0m \u001b[32m━━━━━━━━━━━━━━━━━━━━\u001b[0m\u001b[37m\u001b[0m \u001b[1m0s\u001b[0m 3ms/step \n",
      "\u001b[1m10/10\u001b[0m \u001b[32m━━━━━━━━━━━━━━━━━━━━\u001b[0m\u001b[37m\u001b[0m \u001b[1m0s\u001b[0m 3ms/step \n",
      "\u001b[1m10/10\u001b[0m \u001b[32m━━━━━━━━━━━━━━━━━━━━\u001b[0m\u001b[37m\u001b[0m \u001b[1m0s\u001b[0m 3ms/step \n",
      "\u001b[1m10/10\u001b[0m \u001b[32m━━━━━━━━━━━━━━━━━━━━\u001b[0m\u001b[37m\u001b[0m \u001b[1m0s\u001b[0m 3ms/step \n",
      "\u001b[1m10/10\u001b[0m \u001b[32m━━━━━━━━━━━━━━━━━━━━\u001b[0m\u001b[37m\u001b[0m \u001b[1m0s\u001b[0m 3ms/step \n",
      "\u001b[1m10/10\u001b[0m \u001b[32m━━━━━━━━━━━━━━━━━━━━\u001b[0m\u001b[37m\u001b[0m \u001b[1m0s\u001b[0m 3ms/step \n",
      "\u001b[1m10/10\u001b[0m \u001b[32m━━━━━━━━━━━━━━━━━━━━\u001b[0m\u001b[37m\u001b[0m \u001b[1m0s\u001b[0m 3ms/step \n",
      "\u001b[1m10/10\u001b[0m \u001b[32m━━━━━━━━━━━━━━━━━━━━\u001b[0m\u001b[37m\u001b[0m \u001b[1m0s\u001b[0m 3ms/step \n",
      "\u001b[1m10/10\u001b[0m \u001b[32m━━━━━━━━━━━━━━━━━━━━\u001b[0m\u001b[37m\u001b[0m \u001b[1m0s\u001b[0m 4ms/step \n",
      "\u001b[1m10/10\u001b[0m \u001b[32m━━━━━━━━━━━━━━━━━━━━\u001b[0m\u001b[37m\u001b[0m \u001b[1m0s\u001b[0m 3ms/step \n",
      "\u001b[1m10/10\u001b[0m \u001b[32m━━━━━━━━━━━━━━━━━━━━\u001b[0m\u001b[37m\u001b[0m \u001b[1m0s\u001b[0m 3ms/step \n",
      "\u001b[1m10/10\u001b[0m \u001b[32m━━━━━━━━━━━━━━━━━━━━\u001b[0m\u001b[37m\u001b[0m \u001b[1m0s\u001b[0m 5ms/step \n",
      "\u001b[1m10/10\u001b[0m \u001b[32m━━━━━━━━━━━━━━━━━━━━\u001b[0m\u001b[37m\u001b[0m \u001b[1m0s\u001b[0m 7ms/step \n",
      "\u001b[1m10/10\u001b[0m \u001b[32m━━━━━━━━━━━━━━━━━━━━\u001b[0m\u001b[37m\u001b[0m \u001b[1m0s\u001b[0m 4ms/step \n",
      "\u001b[1m10/10\u001b[0m \u001b[32m━━━━━━━━━━━━━━━━━━━━\u001b[0m\u001b[37m\u001b[0m \u001b[1m0s\u001b[0m 5ms/step \n",
      "\u001b[1m10/10\u001b[0m \u001b[32m━━━━━━━━━━━━━━━━━━━━\u001b[0m\u001b[37m\u001b[0m \u001b[1m0s\u001b[0m 3ms/step \n",
      "\u001b[1m10/10\u001b[0m \u001b[32m━━━━━━━━━━━━━━━━━━━━\u001b[0m\u001b[37m\u001b[0m \u001b[1m0s\u001b[0m 4ms/step \n",
      "\u001b[1m10/10\u001b[0m \u001b[32m━━━━━━━━━━━━━━━━━━━━\u001b[0m\u001b[37m\u001b[0m \u001b[1m0s\u001b[0m 5ms/step \n",
      "\u001b[1m10/10\u001b[0m \u001b[32m━━━━━━━━━━━━━━━━━━━━\u001b[0m\u001b[37m\u001b[0m \u001b[1m0s\u001b[0m 3ms/step \n",
      "\u001b[1m10/10\u001b[0m \u001b[32m━━━━━━━━━━━━━━━━━━━━\u001b[0m\u001b[37m\u001b[0m \u001b[1m0s\u001b[0m 3ms/step \n",
      "\u001b[1m10/10\u001b[0m \u001b[32m━━━━━━━━━━━━━━━━━━━━\u001b[0m\u001b[37m\u001b[0m \u001b[1m0s\u001b[0m 3ms/step \n",
      "\u001b[1m10/10\u001b[0m \u001b[32m━━━━━━━━━━━━━━━━━━━━\u001b[0m\u001b[37m\u001b[0m \u001b[1m0s\u001b[0m 3ms/step \n",
      "\u001b[1m10/10\u001b[0m \u001b[32m━━━━━━━━━━━━━━━━━━━━\u001b[0m\u001b[37m\u001b[0m \u001b[1m0s\u001b[0m 3ms/step \n",
      "\u001b[1m10/10\u001b[0m \u001b[32m━━━━━━━━━━━━━━━━━━━━\u001b[0m\u001b[37m\u001b[0m \u001b[1m0s\u001b[0m 3ms/step \n",
      "[229.76864458469632, 118.1012347399176, 106.30406846062132, 445.237057179451, 353.0206299938605, 284.1826685165685, 129.43639616612757, 209.0823431530812, 209.4808329860601, 303.03595036920166, 548.3749836155874, 139.09324279734676, 199.42005158824088, 111.14251749176073, 457.54849720896544, 106.3613316626765, 114.67714811528856, 194.32983782907323, 118.52477627655831, 675.7949907735234, 158.50818094114103, 264.1970024513591, 102.92192319197123, 212.3137267209687, 223.49796219312552, 410.7106365651319, 187.61790374438584, 195.0078051462126, 3442.0724271240497, 235.68162613665808, 255.50495749735566, 107.72554412245108, 271.72480726814047, 201.47506376072351, 262.91083972572875, 611.7081628103894, 456.5198385608879, 1876.1490325713535, 974.4163317131579, 246.36103015848227, 126.22900925854378, 202.9347492431741, 350.9455368321429, 5816.456927339386, 109.22007436785505, 346.8463056184874, 204.6611615627437, 1367.6289864294683, 315.388938863722, 1168.9912248834776]\n"
     ]
    }
   ],
   "source": [
    "mse_list = []\n",
    "\n",
    "for _ in range(50):\n",
    "    # Split the data into training and test sets\n",
    "    X_train, X_test, y_train, y_test = train_test_split(predictors, target, test_size=0.3, random_state=42)\n",
    "    \n",
    "    # Define and compile the model\n",
    "    model = regression_model_A()\n",
    "    \n",
    "    # Train the model on the training data using 50 epochs\n",
    "    model.fit(X_train, y_train, validation_split=0.3, epochs=50, verbose=0)\n",
    "    \n",
    "    # Predict the target values using the model on the test set\n",
    "    test_predictions = model.predict(X_test)\n",
    "    \n",
    "    # Compute the mean squared error on the test set\n",
    "    test_mse = mean_squared_error(y_test, test_predictions)\n",
    "    \n",
    "    # Append the mean squared error to the list\n",
    "    mse_list.append(test_mse)\n",
    "\n",
    "print(mse_list)"
   ]
  },
  {
   "cell_type": "markdown",
   "metadata": {},
   "source": [
    "5. Report the mean and the standard deviation of the mean squared errors."
   ]
  },
  {
   "cell_type": "code",
   "execution_count": 58,
   "metadata": {},
   "outputs": [
    {
     "name": "stdout",
     "output_type": "stream",
     "text": [
      "Mean of Mean Squared Errors: 515.1848984062257\n",
      "Standard Deviation of Mean Squared Errors: 935.5488407802936\n"
     ]
    }
   ],
   "source": [
    "import numpy as np\n",
    "\n",
    "mean_mse_A = np.mean(mse_list)\n",
    "std_mse_A = np.std(mse_list)\n",
    "\n",
    "print(f\"Mean of Mean Squared Errors: {mean_mse_A}\")\n",
    "print(f\"Standard Deviation of Mean Squared Errors: {std_mse_A}\")"
   ]
  },
  {
   "cell_type": "markdown",
   "metadata": {},
   "source": [
    "# B. Normalize the data"
   ]
  },
  {
   "cell_type": "markdown",
   "metadata": {},
   "source": [
    "Repeat Part A but use a normalized version of the data. Recall that one way to normalize the data is by subtracting the mean from the individual predictors and dividing by the standard deviation."
   ]
  },
  {
   "cell_type": "code",
   "execution_count": 59,
   "metadata": {},
   "outputs": [
    {
     "data": {
      "text/html": [
       "<div>\n",
       "<style scoped>\n",
       "    .dataframe tbody tr th:only-of-type {\n",
       "        vertical-align: middle;\n",
       "    }\n",
       "\n",
       "    .dataframe tbody tr th {\n",
       "        vertical-align: top;\n",
       "    }\n",
       "\n",
       "    .dataframe thead th {\n",
       "        text-align: right;\n",
       "    }\n",
       "</style>\n",
       "<table border=\"1\" class=\"dataframe\">\n",
       "  <thead>\n",
       "    <tr style=\"text-align: right;\">\n",
       "      <th></th>\n",
       "      <th>Cement</th>\n",
       "      <th>Blast Furnace Slag</th>\n",
       "      <th>Fly Ash</th>\n",
       "      <th>Water</th>\n",
       "      <th>Superplasticizer</th>\n",
       "      <th>Coarse Aggregate</th>\n",
       "      <th>Fine Aggregate</th>\n",
       "      <th>Age</th>\n",
       "    </tr>\n",
       "  </thead>\n",
       "  <tbody>\n",
       "    <tr>\n",
       "      <th>0</th>\n",
       "      <td>2.476712</td>\n",
       "      <td>-0.856472</td>\n",
       "      <td>-0.846733</td>\n",
       "      <td>-0.916319</td>\n",
       "      <td>-0.620147</td>\n",
       "      <td>0.862735</td>\n",
       "      <td>-1.217079</td>\n",
       "      <td>-0.279597</td>\n",
       "    </tr>\n",
       "    <tr>\n",
       "      <th>1</th>\n",
       "      <td>2.476712</td>\n",
       "      <td>-0.856472</td>\n",
       "      <td>-0.846733</td>\n",
       "      <td>-0.916319</td>\n",
       "      <td>-0.620147</td>\n",
       "      <td>1.055651</td>\n",
       "      <td>-1.217079</td>\n",
       "      <td>-0.279597</td>\n",
       "    </tr>\n",
       "    <tr>\n",
       "      <th>2</th>\n",
       "      <td>0.491187</td>\n",
       "      <td>0.795140</td>\n",
       "      <td>-0.846733</td>\n",
       "      <td>2.174405</td>\n",
       "      <td>-1.038638</td>\n",
       "      <td>-0.526262</td>\n",
       "      <td>-2.239829</td>\n",
       "      <td>3.551340</td>\n",
       "    </tr>\n",
       "    <tr>\n",
       "      <th>3</th>\n",
       "      <td>0.491187</td>\n",
       "      <td>0.795140</td>\n",
       "      <td>-0.846733</td>\n",
       "      <td>2.174405</td>\n",
       "      <td>-1.038638</td>\n",
       "      <td>-0.526262</td>\n",
       "      <td>-2.239829</td>\n",
       "      <td>5.055221</td>\n",
       "    </tr>\n",
       "    <tr>\n",
       "      <th>4</th>\n",
       "      <td>-0.790075</td>\n",
       "      <td>0.678079</td>\n",
       "      <td>-0.846733</td>\n",
       "      <td>0.488555</td>\n",
       "      <td>-1.038638</td>\n",
       "      <td>0.070492</td>\n",
       "      <td>0.647569</td>\n",
       "      <td>4.976069</td>\n",
       "    </tr>\n",
       "  </tbody>\n",
       "</table>\n",
       "</div>"
      ],
      "text/plain": [
       "     Cement  Blast Furnace Slag   Fly Ash     Water  Superplasticizer  \\\n",
       "0  2.476712           -0.856472 -0.846733 -0.916319         -0.620147   \n",
       "1  2.476712           -0.856472 -0.846733 -0.916319         -0.620147   \n",
       "2  0.491187            0.795140 -0.846733  2.174405         -1.038638   \n",
       "3  0.491187            0.795140 -0.846733  2.174405         -1.038638   \n",
       "4 -0.790075            0.678079 -0.846733  0.488555         -1.038638   \n",
       "\n",
       "   Coarse Aggregate  Fine Aggregate       Age  \n",
       "0          0.862735       -1.217079 -0.279597  \n",
       "1          1.055651       -1.217079 -0.279597  \n",
       "2         -0.526262       -2.239829  3.551340  \n",
       "3         -0.526262       -2.239829  5.055221  \n",
       "4          0.070492        0.647569  4.976069  "
      ]
     },
     "execution_count": 59,
     "metadata": {},
     "output_type": "execute_result"
    }
   ],
   "source": [
    "predictors_norm = (predictors -predictors.mean()) / predictors.std()\n",
    "predictors_norm.head()"
   ]
  },
  {
   "cell_type": "markdown",
   "metadata": {},
   "source": [
    "Network model is the same as model A, but the data is normalized before training the model."
   ]
  },
  {
   "cell_type": "code",
   "execution_count": 60,
   "metadata": {},
   "outputs": [],
   "source": [
    "model = regression_model_A()"
   ]
  },
  {
   "cell_type": "markdown",
   "metadata": {},
   "source": [
    "1. Randomly split the data into a training and test sets by holding 30% of the data for testing. You can use the \n",
    "train_test_split\n",
    "helper function from Scikit-learn."
   ]
  },
  {
   "cell_type": "code",
   "execution_count": 61,
   "metadata": {},
   "outputs": [],
   "source": [
    "X_train, X_test, y_train, y_test = train_test_split(predictors_norm, target, test_size=0.3, random_state=42)"
   ]
  },
  {
   "cell_type": "markdown",
   "metadata": {},
   "source": [
    "2. Train the model on the training data using 50 epochs."
   ]
  },
  {
   "cell_type": "code",
   "execution_count": 62,
   "metadata": {},
   "outputs": [
    {
     "name": "stdout",
     "output_type": "stream",
     "text": [
      "Epoch 1/50\n"
     ]
    },
    {
     "name": "stdout",
     "output_type": "stream",
     "text": [
      "16/16 - 0s - 31ms/step - loss: 1634.5952 - val_loss: 1496.5394\n",
      "Epoch 2/50\n",
      "16/16 - 0s - 5ms/step - loss: 1621.3761 - val_loss: 1484.6071\n",
      "Epoch 3/50\n",
      "16/16 - 0s - 5ms/step - loss: 1608.2446 - val_loss: 1472.6007\n",
      "Epoch 4/50\n",
      "16/16 - 0s - 6ms/step - loss: 1594.8254 - val_loss: 1460.5820\n",
      "Epoch 5/50\n",
      "16/16 - 0s - 6ms/step - loss: 1581.4115 - val_loss: 1448.2089\n",
      "Epoch 6/50\n",
      "16/16 - 0s - 5ms/step - loss: 1567.7587 - val_loss: 1435.5521\n",
      "Epoch 7/50\n",
      "16/16 - 0s - 5ms/step - loss: 1553.4900 - val_loss: 1422.9211\n",
      "Epoch 8/50\n",
      "16/16 - 0s - 5ms/step - loss: 1539.3352 - val_loss: 1409.5657\n",
      "Epoch 9/50\n",
      "16/16 - 0s - 5ms/step - loss: 1524.6250 - val_loss: 1395.9818\n",
      "Epoch 10/50\n",
      "16/16 - 0s - 5ms/step - loss: 1509.4926 - val_loss: 1382.1642\n",
      "Epoch 11/50\n",
      "16/16 - 0s - 5ms/step - loss: 1494.0533 - val_loss: 1368.0153\n",
      "Epoch 12/50\n",
      "16/16 - 0s - 6ms/step - loss: 1478.2354 - val_loss: 1353.3447\n",
      "Epoch 13/50\n",
      "16/16 - 0s - 5ms/step - loss: 1461.5531 - val_loss: 1338.7643\n",
      "Epoch 14/50\n",
      "16/16 - 0s - 5ms/step - loss: 1444.9926 - val_loss: 1323.5042\n",
      "Epoch 15/50\n",
      "16/16 - 0s - 5ms/step - loss: 1428.1056 - val_loss: 1307.3652\n",
      "Epoch 16/50\n",
      "16/16 - 0s - 5ms/step - loss: 1409.8213 - val_loss: 1291.5371\n",
      "Epoch 17/50\n",
      "16/16 - 0s - 5ms/step - loss: 1391.9913 - val_loss: 1274.7899\n",
      "Epoch 18/50\n",
      "16/16 - 0s - 5ms/step - loss: 1373.0226 - val_loss: 1257.8208\n",
      "Epoch 19/50\n",
      "16/16 - 0s - 5ms/step - loss: 1353.9048 - val_loss: 1240.3142\n",
      "Epoch 20/50\n",
      "16/16 - 0s - 5ms/step - loss: 1334.2468 - val_loss: 1222.6486\n",
      "Epoch 21/50\n",
      "16/16 - 0s - 5ms/step - loss: 1314.2546 - val_loss: 1204.3691\n",
      "Epoch 22/50\n",
      "16/16 - 0s - 6ms/step - loss: 1293.7297 - val_loss: 1185.8567\n",
      "Epoch 23/50\n",
      "16/16 - 0s - 5ms/step - loss: 1272.7839 - val_loss: 1166.8615\n",
      "Epoch 24/50\n",
      "16/16 - 0s - 5ms/step - loss: 1251.1296 - val_loss: 1147.8838\n",
      "Epoch 25/50\n",
      "16/16 - 0s - 6ms/step - loss: 1229.5225 - val_loss: 1128.1490\n",
      "Epoch 26/50\n",
      "16/16 - 0s - 6ms/step - loss: 1207.1056 - val_loss: 1108.1492\n",
      "Epoch 27/50\n",
      "16/16 - 0s - 5ms/step - loss: 1184.4176 - val_loss: 1087.9479\n",
      "Epoch 28/50\n",
      "16/16 - 0s - 5ms/step - loss: 1161.4154 - val_loss: 1067.3530\n",
      "Epoch 29/50\n",
      "16/16 - 0s - 5ms/step - loss: 1137.8206 - val_loss: 1046.6138\n",
      "Epoch 30/50\n",
      "16/16 - 0s - 5ms/step - loss: 1113.7906 - val_loss: 1025.7548\n",
      "Epoch 31/50\n",
      "16/16 - 0s - 5ms/step - loss: 1089.6140 - val_loss: 1004.6465\n",
      "Epoch 32/50\n",
      "16/16 - 0s - 6ms/step - loss: 1065.8805 - val_loss: 982.7220\n",
      "Epoch 33/50\n",
      "16/16 - 0s - 5ms/step - loss: 1041.0369 - val_loss: 961.0035\n",
      "Epoch 34/50\n",
      "16/16 - 0s - 5ms/step - loss: 1016.0063 - val_loss: 939.1403\n",
      "Epoch 35/50\n",
      "16/16 - 0s - 5ms/step - loss: 991.3722 - val_loss: 916.9829\n",
      "Epoch 36/50\n",
      "16/16 - 0s - 5ms/step - loss: 966.0394 - val_loss: 895.2307\n",
      "Epoch 37/50\n",
      "16/16 - 0s - 5ms/step - loss: 941.4059 - val_loss: 872.8681\n",
      "Epoch 38/50\n",
      "16/16 - 0s - 6ms/step - loss: 916.1370 - val_loss: 850.6798\n",
      "Epoch 39/50\n",
      "16/16 - 0s - 5ms/step - loss: 891.4055 - val_loss: 828.2753\n",
      "Epoch 40/50\n",
      "16/16 - 0s - 5ms/step - loss: 866.2516 - val_loss: 806.2205\n",
      "Epoch 41/50\n",
      "16/16 - 0s - 5ms/step - loss: 841.5983 - val_loss: 784.4520\n",
      "Epoch 42/50\n",
      "16/16 - 0s - 6ms/step - loss: 817.1203 - val_loss: 762.8541\n",
      "Epoch 43/50\n",
      "16/16 - 0s - 6ms/step - loss: 792.9526 - val_loss: 741.2120\n",
      "Epoch 44/50\n",
      "16/16 - 0s - 6ms/step - loss: 768.9373 - val_loss: 719.8229\n",
      "Epoch 45/50\n",
      "16/16 - 0s - 5ms/step - loss: 745.6752 - val_loss: 698.4313\n",
      "Epoch 46/50\n",
      "16/16 - 0s - 6ms/step - loss: 722.0739 - val_loss: 677.8498\n",
      "Epoch 47/50\n",
      "16/16 - 0s - 5ms/step - loss: 699.3802 - val_loss: 657.6213\n",
      "Epoch 48/50\n",
      "16/16 - 0s - 5ms/step - loss: 677.1843 - val_loss: 637.5402\n",
      "Epoch 49/50\n",
      "16/16 - 0s - 5ms/step - loss: 655.3422 - val_loss: 617.9045\n",
      "Epoch 50/50\n",
      "16/16 - 0s - 5ms/step - loss: 634.2756 - val_loss: 598.6678\n"
     ]
    },
    {
     "data": {
      "text/plain": [
       "<keras.src.callbacks.history.History at 0x25c9cafeb40>"
      ]
     },
     "execution_count": 62,
     "metadata": {},
     "output_type": "execute_result"
    }
   ],
   "source": [
    "model.fit(X_train, y_train, validation_split=0.3, epochs=50, verbose=2)"
   ]
  },
  {
   "cell_type": "markdown",
   "metadata": {},
   "source": [
    "3. Evaluate the model on the test data and compute the mean squared error between the predicted concrete strength and the actual concrete strength. You can use the mean_squared_error function from Scikit-learn."
   ]
  },
  {
   "cell_type": "code",
   "execution_count": 63,
   "metadata": {},
   "outputs": [
    {
     "name": "stdout",
     "output_type": "stream",
     "text": [
      "\u001b[1m10/10\u001b[0m \u001b[32m━━━━━━━━━━━━━━━━━━━━\u001b[0m\u001b[37m\u001b[0m \u001b[1m0s\u001b[0m 4ms/step \n",
      "Mean Squared Error on Test Data: 580.6695313697072\n"
     ]
    }
   ],
   "source": [
    "# Predict the target values using the model on the test set\n",
    "test_predictions = model.predict(X_test)\n",
    "\n",
    "# Compute the mean squared error on the test set\n",
    "test_mse = mean_squared_error(y_test, test_predictions)\n",
    "print(f\"Mean Squared Error on Test Data: {test_mse}\")"
   ]
  },
  {
   "cell_type": "markdown",
   "metadata": {},
   "source": [
    "4. Repeat steps 1 - 3, 50 times, i.e., create a list of 50 mean squared errors."
   ]
  },
  {
   "cell_type": "code",
   "execution_count": 64,
   "metadata": {},
   "outputs": [
    {
     "name": "stdout",
     "output_type": "stream",
     "text": [
      "\u001b[1m10/10\u001b[0m \u001b[32m━━━━━━━━━━━━━━━━━━━━\u001b[0m\u001b[37m\u001b[0m \u001b[1m0s\u001b[0m 3ms/step \n",
      "\u001b[1m10/10\u001b[0m \u001b[32m━━━━━━━━━━━━━━━━━━━━\u001b[0m\u001b[37m\u001b[0m \u001b[1m0s\u001b[0m 3ms/step \n",
      "\u001b[1m10/10\u001b[0m \u001b[32m━━━━━━━━━━━━━━━━━━━━\u001b[0m\u001b[37m\u001b[0m \u001b[1m0s\u001b[0m 3ms/step \n",
      "\u001b[1m10/10\u001b[0m \u001b[32m━━━━━━━━━━━━━━━━━━━━\u001b[0m\u001b[37m\u001b[0m \u001b[1m0s\u001b[0m 3ms/step \n",
      "\u001b[1m10/10\u001b[0m \u001b[32m━━━━━━━━━━━━━━━━━━━━\u001b[0m\u001b[37m\u001b[0m \u001b[1m0s\u001b[0m 3ms/step \n",
      "\u001b[1m10/10\u001b[0m \u001b[32m━━━━━━━━━━━━━━━━━━━━\u001b[0m\u001b[37m\u001b[0m \u001b[1m0s\u001b[0m 3ms/step \n",
      "\u001b[1m10/10\u001b[0m \u001b[32m━━━━━━━━━━━━━━━━━━━━\u001b[0m\u001b[37m\u001b[0m \u001b[1m0s\u001b[0m 3ms/step \n",
      "\u001b[1m10/10\u001b[0m \u001b[32m━━━━━━━━━━━━━━━━━━━━\u001b[0m\u001b[37m\u001b[0m \u001b[1m0s\u001b[0m 3ms/step \n",
      "\u001b[1m10/10\u001b[0m \u001b[32m━━━━━━━━━━━━━━━━━━━━\u001b[0m\u001b[37m\u001b[0m \u001b[1m0s\u001b[0m 3ms/step \n",
      "\u001b[1m10/10\u001b[0m \u001b[32m━━━━━━━━━━━━━━━━━━━━\u001b[0m\u001b[37m\u001b[0m \u001b[1m0s\u001b[0m 3ms/step \n",
      "\u001b[1m10/10\u001b[0m \u001b[32m━━━━━━━━━━━━━━━━━━━━\u001b[0m\u001b[37m\u001b[0m \u001b[1m0s\u001b[0m 3ms/step \n",
      "\u001b[1m10/10\u001b[0m \u001b[32m━━━━━━━━━━━━━━━━━━━━\u001b[0m\u001b[37m\u001b[0m \u001b[1m0s\u001b[0m 3ms/step \n",
      "\u001b[1m10/10\u001b[0m \u001b[32m━━━━━━━━━━━━━━━━━━━━\u001b[0m\u001b[37m\u001b[0m \u001b[1m0s\u001b[0m 3ms/step \n",
      "\u001b[1m10/10\u001b[0m \u001b[32m━━━━━━━━━━━━━━━━━━━━\u001b[0m\u001b[37m\u001b[0m \u001b[1m0s\u001b[0m 3ms/step \n",
      "\u001b[1m10/10\u001b[0m \u001b[32m━━━━━━━━━━━━━━━━━━━━\u001b[0m\u001b[37m\u001b[0m \u001b[1m0s\u001b[0m 3ms/step \n",
      "\u001b[1m10/10\u001b[0m \u001b[32m━━━━━━━━━━━━━━━━━━━━\u001b[0m\u001b[37m\u001b[0m \u001b[1m0s\u001b[0m 3ms/step \n",
      "\u001b[1m10/10\u001b[0m \u001b[32m━━━━━━━━━━━━━━━━━━━━\u001b[0m\u001b[37m\u001b[0m \u001b[1m0s\u001b[0m 3ms/step \n",
      "\u001b[1m10/10\u001b[0m \u001b[32m━━━━━━━━━━━━━━━━━━━━\u001b[0m\u001b[37m\u001b[0m \u001b[1m0s\u001b[0m 3ms/step \n",
      "\u001b[1m10/10\u001b[0m \u001b[32m━━━━━━━━━━━━━━━━━━━━\u001b[0m\u001b[37m\u001b[0m \u001b[1m0s\u001b[0m 3ms/step \n",
      "\u001b[1m10/10\u001b[0m \u001b[32m━━━━━━━━━━━━━━━━━━━━\u001b[0m\u001b[37m\u001b[0m \u001b[1m0s\u001b[0m 3ms/step \n",
      "\u001b[1m10/10\u001b[0m \u001b[32m━━━━━━━━━━━━━━━━━━━━\u001b[0m\u001b[37m\u001b[0m \u001b[1m0s\u001b[0m 3ms/step \n",
      "\u001b[1m10/10\u001b[0m \u001b[32m━━━━━━━━━━━━━━━━━━━━\u001b[0m\u001b[37m\u001b[0m \u001b[1m0s\u001b[0m 3ms/step \n",
      "\u001b[1m10/10\u001b[0m \u001b[32m━━━━━━━━━━━━━━━━━━━━\u001b[0m\u001b[37m\u001b[0m \u001b[1m0s\u001b[0m 3ms/step \n",
      "\u001b[1m10/10\u001b[0m \u001b[32m━━━━━━━━━━━━━━━━━━━━\u001b[0m\u001b[37m\u001b[0m \u001b[1m0s\u001b[0m 3ms/step \n",
      "\u001b[1m10/10\u001b[0m \u001b[32m━━━━━━━━━━━━━━━━━━━━\u001b[0m\u001b[37m\u001b[0m \u001b[1m0s\u001b[0m 3ms/step \n",
      "\u001b[1m10/10\u001b[0m \u001b[32m━━━━━━━━━━━━━━━━━━━━\u001b[0m\u001b[37m\u001b[0m \u001b[1m0s\u001b[0m 3ms/step \n",
      "\u001b[1m10/10\u001b[0m \u001b[32m━━━━━━━━━━━━━━━━━━━━\u001b[0m\u001b[37m\u001b[0m \u001b[1m0s\u001b[0m 3ms/step \n",
      "\u001b[1m10/10\u001b[0m \u001b[32m━━━━━━━━━━━━━━━━━━━━\u001b[0m\u001b[37m\u001b[0m \u001b[1m0s\u001b[0m 3ms/step \n",
      "\u001b[1m10/10\u001b[0m \u001b[32m━━━━━━━━━━━━━━━━━━━━\u001b[0m\u001b[37m\u001b[0m \u001b[1m0s\u001b[0m 3ms/step \n",
      "\u001b[1m10/10\u001b[0m \u001b[32m━━━━━━━━━━━━━━━━━━━━\u001b[0m\u001b[37m\u001b[0m \u001b[1m0s\u001b[0m 3ms/step \n",
      "\u001b[1m10/10\u001b[0m \u001b[32m━━━━━━━━━━━━━━━━━━━━\u001b[0m\u001b[37m\u001b[0m \u001b[1m0s\u001b[0m 3ms/step \n",
      "\u001b[1m10/10\u001b[0m \u001b[32m━━━━━━━━━━━━━━━━━━━━\u001b[0m\u001b[37m\u001b[0m \u001b[1m0s\u001b[0m 3ms/step \n",
      "\u001b[1m10/10\u001b[0m \u001b[32m━━━━━━━━━━━━━━━━━━━━\u001b[0m\u001b[37m\u001b[0m \u001b[1m0s\u001b[0m 3ms/step \n",
      "\u001b[1m10/10\u001b[0m \u001b[32m━━━━━━━━━━━━━━━━━━━━\u001b[0m\u001b[37m\u001b[0m \u001b[1m0s\u001b[0m 4ms/step \n",
      "\u001b[1m10/10\u001b[0m \u001b[32m━━━━━━━━━━━━━━━━━━━━\u001b[0m\u001b[37m\u001b[0m \u001b[1m0s\u001b[0m 3ms/step \n",
      "\u001b[1m10/10\u001b[0m \u001b[32m━━━━━━━━━━━━━━━━━━━━\u001b[0m\u001b[37m\u001b[0m \u001b[1m0s\u001b[0m 3ms/step \n",
      "\u001b[1m10/10\u001b[0m \u001b[32m━━━━━━━━━━━━━━━━━━━━\u001b[0m\u001b[37m\u001b[0m \u001b[1m0s\u001b[0m 3ms/step \n",
      "\u001b[1m10/10\u001b[0m \u001b[32m━━━━━━━━━━━━━━━━━━━━\u001b[0m\u001b[37m\u001b[0m \u001b[1m0s\u001b[0m 3ms/step \n",
      "\u001b[1m10/10\u001b[0m \u001b[32m━━━━━━━━━━━━━━━━━━━━\u001b[0m\u001b[37m\u001b[0m \u001b[1m0s\u001b[0m 3ms/step \n",
      "\u001b[1m10/10\u001b[0m \u001b[32m━━━━━━━━━━━━━━━━━━━━\u001b[0m\u001b[37m\u001b[0m \u001b[1m0s\u001b[0m 4ms/step \n",
      "\u001b[1m10/10\u001b[0m \u001b[32m━━━━━━━━━━━━━━━━━━━━\u001b[0m\u001b[37m\u001b[0m \u001b[1m0s\u001b[0m 3ms/step \n",
      "\u001b[1m10/10\u001b[0m \u001b[32m━━━━━━━━━━━━━━━━━━━━\u001b[0m\u001b[37m\u001b[0m \u001b[1m0s\u001b[0m 3ms/step \n",
      "\u001b[1m10/10\u001b[0m \u001b[32m━━━━━━━━━━━━━━━━━━━━\u001b[0m\u001b[37m\u001b[0m \u001b[1m0s\u001b[0m 3ms/step \n",
      "\u001b[1m10/10\u001b[0m \u001b[32m━━━━━━━━━━━━━━━━━━━━\u001b[0m\u001b[37m\u001b[0m \u001b[1m0s\u001b[0m 3ms/step \n",
      "\u001b[1m10/10\u001b[0m \u001b[32m━━━━━━━━━━━━━━━━━━━━\u001b[0m\u001b[37m\u001b[0m \u001b[1m0s\u001b[0m 3ms/step \n",
      "\u001b[1m10/10\u001b[0m \u001b[32m━━━━━━━━━━━━━━━━━━━━\u001b[0m\u001b[37m\u001b[0m \u001b[1m0s\u001b[0m 3ms/step \n",
      "\u001b[1m10/10\u001b[0m \u001b[32m━━━━━━━━━━━━━━━━━━━━\u001b[0m\u001b[37m\u001b[0m \u001b[1m0s\u001b[0m 3ms/step \n",
      "\u001b[1m10/10\u001b[0m \u001b[32m━━━━━━━━━━━━━━━━━━━━\u001b[0m\u001b[37m\u001b[0m \u001b[1m0s\u001b[0m 3ms/step \n",
      "\u001b[1m10/10\u001b[0m \u001b[32m━━━━━━━━━━━━━━━━━━━━\u001b[0m\u001b[37m\u001b[0m \u001b[1m0s\u001b[0m 3ms/step \n",
      "\u001b[1m10/10\u001b[0m \u001b[32m━━━━━━━━━━━━━━━━━━━━\u001b[0m\u001b[37m\u001b[0m \u001b[1m0s\u001b[0m 3ms/step \n",
      "[848.4281604246665, 830.1398366532994, 856.4457543781485, 667.0809818140015, 786.4347584788619, 890.1890704466861, 543.8146124973072, 562.0251999008074, 499.17532181270434, 629.9919436898807, 570.177999064735, 438.7563083930363, 779.8590585820659, 543.0393832782358, 967.9613352099707, 697.7339733752808, 611.2499260303042, 600.9636119834745, 481.0540647310399, 821.3352032824803, 1145.705431897017, 600.2055028509944, 696.657136754384, 614.4893185789389, 750.40224008055, 783.0597136182191, 836.0473654632783, 424.2125335743912, 541.6277647894543, 461.0727269120313, 439.032667757739, 721.0979541974536, 601.3537399893818, 744.0011635833348, 555.5370313462123, 680.1232107113558, 661.9785806194147, 570.870463334185, 535.0509960441468, 581.9114323397228, 782.2595192778637, 700.400874920503, 734.2285799696303, 550.9321362205084, 810.4314026670663, 639.0470108900878, 739.6552521186978, 604.1079138368088, 646.6427915394803, 639.1369463899582]\n"
     ]
    }
   ],
   "source": [
    "mse_list = []\n",
    "\n",
    "for _ in range(50):\n",
    "    # Split the data into training and test sets\n",
    "    X_train, X_test, y_train, y_test = train_test_split(predictors_norm, target, test_size=0.3, random_state=42)\n",
    "    \n",
    "    # Define and compile the model\n",
    "    model = regression_model_A()\n",
    "    \n",
    "    # Train the model on the training data using 50 epochs\n",
    "    model.fit(X_train, y_train, validation_split=0.3, epochs=50, verbose=0)\n",
    "    \n",
    "    # Predict the target values using the model on the test set\n",
    "    test_predictions = model.predict(X_test)\n",
    "    \n",
    "    # Compute the mean squared error on the test set\n",
    "    test_mse = mean_squared_error(y_test, test_predictions)\n",
    "    \n",
    "    # Append the mean squared error to the list\n",
    "    mse_list.append(test_mse)\n",
    "\n",
    "print(mse_list)"
   ]
  },
  {
   "cell_type": "markdown",
   "metadata": {},
   "source": [
    "5. Report the mean and the standard deviation of the mean squared errors."
   ]
  },
  {
   "cell_type": "code",
   "execution_count": 65,
   "metadata": {},
   "outputs": [
    {
     "name": "stdout",
     "output_type": "stream",
     "text": [
      "Mean of Mean Squared Errors: 668.342718125996\n",
      "Standard Deviation of Mean Squared Errors: 144.3083488088387\n"
     ]
    }
   ],
   "source": [
    "mean_mse_B = np.mean(mse_list)\n",
    "std_mse_B = np.std(mse_list)\n",
    "\n",
    "print(f\"Mean of Mean Squared Errors: {mean_mse_B}\")\n",
    "print(f\"Standard Deviation of Mean Squared Errors: {std_mse_B}\")"
   ]
  },
  {
   "cell_type": "markdown",
   "metadata": {},
   "source": [
    "How does the mean of the mean squared errors compare to that from Step A?\n"
   ]
  },
  {
   "cell_type": "code",
   "execution_count": 66,
   "metadata": {},
   "outputs": [
    {
     "name": "stdout",
     "output_type": "stream",
     "text": [
      "Mean of Mean Squared Errors: A -> 515.1848984062257 B -> 668.342718125996\n",
      "Standard Deviation of Mean Squared Errors: A-> 935.5488407802936 B-> 144.3083488088387\n"
     ]
    }
   ],
   "source": [
    "print(f\"Mean of Mean Squared Errors: A -> {mean_mse_A} B -> {mean_mse_B}\")\n",
    "print(f\"Standard Deviation of Mean Squared Errors: A-> {std_mse_A} B-> {std_mse_B}\")"
   ]
  },
  {
   "cell_type": "markdown",
   "metadata": {},
   "source": [
    "Mean of Mean Squared Errors have similar values, but Standard Deviation is much lower for B.\n",
    "\n",
    "If normalizing the data results in a higher Mean Squared Error (MSE), it could be due to several reasons like:\n",
    "\n",
    "1. Improper Normalization:\n",
    "2. Model Architecture:\n",
    "3. Normalization Method:\n",
    "4. Data Distribution:"
   ]
  },
  {
   "cell_type": "markdown",
   "metadata": {},
   "source": [
    "## C. Increate the number of epochs"
   ]
  },
  {
   "cell_type": "markdown",
   "metadata": {},
   "source": [
    "Repeat Part B but use 100 epochs this time for training.\n"
   ]
  },
  {
   "cell_type": "code",
   "execution_count": 67,
   "metadata": {},
   "outputs": [],
   "source": [
    "model = regression_model_A()"
   ]
  },
  {
   "cell_type": "markdown",
   "metadata": {},
   "source": [
    "1. Randomly split the data into a training and test sets by holding 30% of the data for testing. You can use the \n",
    "train_test_split\n",
    "helper function from Scikit-learn."
   ]
  },
  {
   "cell_type": "code",
   "execution_count": 68,
   "metadata": {},
   "outputs": [],
   "source": [
    "X_train, X_test, y_train, y_test = train_test_split(predictors_norm, target, test_size=0.3, random_state=42)"
   ]
  },
  {
   "cell_type": "markdown",
   "metadata": {},
   "source": [
    "2. Train the model on the training data using ~~50~~ 100 epochs."
   ]
  },
  {
   "cell_type": "code",
   "execution_count": 69,
   "metadata": {},
   "outputs": [
    {
     "name": "stdout",
     "output_type": "stream",
     "text": [
      "Epoch 1/100\n"
     ]
    },
    {
     "name": "stdout",
     "output_type": "stream",
     "text": [
      "16/16 - 1s - 32ms/step - loss: 1535.4122 - val_loss: 1411.0470\n",
      "Epoch 2/100\n",
      "16/16 - 0s - 5ms/step - loss: 1523.7124 - val_loss: 1400.0438\n",
      "Epoch 3/100\n",
      "16/16 - 0s - 6ms/step - loss: 1511.5143 - val_loss: 1388.3832\n",
      "Epoch 4/100\n",
      "16/16 - 0s - 5ms/step - loss: 1498.6294 - val_loss: 1376.1096\n",
      "Epoch 5/100\n",
      "16/16 - 0s - 6ms/step - loss: 1484.9823 - val_loss: 1363.1490\n",
      "Epoch 6/100\n",
      "16/16 - 0s - 5ms/step - loss: 1470.6062 - val_loss: 1349.4474\n",
      "Epoch 7/100\n",
      "16/16 - 0s - 6ms/step - loss: 1455.1458 - val_loss: 1335.2046\n",
      "Epoch 8/100\n",
      "16/16 - 0s - 6ms/step - loss: 1439.6841 - val_loss: 1319.6698\n",
      "Epoch 9/100\n",
      "16/16 - 0s - 5ms/step - loss: 1422.4141 - val_loss: 1304.1234\n",
      "Epoch 10/100\n",
      "16/16 - 0s - 5ms/step - loss: 1404.8079 - val_loss: 1287.5270\n",
      "Epoch 11/100\n",
      "16/16 - 0s - 5ms/step - loss: 1386.2267 - val_loss: 1270.2848\n",
      "Epoch 12/100\n",
      "16/16 - 0s - 6ms/step - loss: 1367.2426 - val_loss: 1251.8612\n",
      "Epoch 13/100\n",
      "16/16 - 0s - 5ms/step - loss: 1346.5841 - val_loss: 1233.4498\n",
      "Epoch 14/100\n",
      "16/16 - 0s - 5ms/step - loss: 1325.8524 - val_loss: 1214.0996\n",
      "Epoch 15/100\n",
      "16/16 - 0s - 5ms/step - loss: 1304.4293 - val_loss: 1193.7827\n",
      "Epoch 16/100\n",
      "16/16 - 0s - 6ms/step - loss: 1281.9210 - val_loss: 1173.1080\n",
      "Epoch 17/100\n",
      "16/16 - 0s - 6ms/step - loss: 1258.9048 - val_loss: 1151.7402\n",
      "Epoch 18/100\n",
      "16/16 - 0s - 5ms/step - loss: 1235.1010 - val_loss: 1129.7079\n",
      "Epoch 19/100\n",
      "16/16 - 0s - 5ms/step - loss: 1210.6312 - val_loss: 1107.2195\n",
      "Epoch 20/100\n",
      "16/16 - 0s - 5ms/step - loss: 1186.0807 - val_loss: 1083.7012\n",
      "Epoch 21/100\n",
      "16/16 - 0s - 5ms/step - loss: 1160.6257 - val_loss: 1059.8927\n",
      "Epoch 22/100\n",
      "16/16 - 0s - 6ms/step - loss: 1134.2487 - val_loss: 1036.0072\n",
      "Epoch 23/100\n",
      "16/16 - 0s - 5ms/step - loss: 1108.2572 - val_loss: 1011.3799\n",
      "Epoch 24/100\n",
      "16/16 - 0s - 5ms/step - loss: 1081.4288 - val_loss: 986.1688\n",
      "Epoch 25/100\n",
      "16/16 - 0s - 6ms/step - loss: 1053.8666 - val_loss: 961.5530\n",
      "Epoch 26/100\n",
      "16/16 - 0s - 6ms/step - loss: 1027.2523 - val_loss: 935.8942\n",
      "Epoch 27/100\n",
      "16/16 - 0s - 5ms/step - loss: 999.8400 - val_loss: 910.3293\n",
      "Epoch 28/100\n",
      "16/16 - 0s - 6ms/step - loss: 972.6550 - val_loss: 884.7371\n",
      "Epoch 29/100\n",
      "16/16 - 0s - 5ms/step - loss: 945.4742 - val_loss: 859.0031\n",
      "Epoch 30/100\n",
      "16/16 - 0s - 5ms/step - loss: 917.9015 - val_loss: 833.7158\n",
      "Epoch 31/100\n",
      "16/16 - 0s - 5ms/step - loss: 891.0941 - val_loss: 808.3245\n",
      "Epoch 32/100\n",
      "16/16 - 0s - 5ms/step - loss: 864.6966 - val_loss: 782.8396\n",
      "Epoch 33/100\n",
      "16/16 - 0s - 5ms/step - loss: 837.7483 - val_loss: 758.2393\n",
      "Epoch 34/100\n",
      "16/16 - 0s - 5ms/step - loss: 812.2714 - val_loss: 733.0761\n",
      "Epoch 35/100\n",
      "16/16 - 0s - 5ms/step - loss: 786.3861 - val_loss: 708.8776\n",
      "Epoch 36/100\n",
      "16/16 - 0s - 5ms/step - loss: 761.2224 - val_loss: 685.0704\n",
      "Epoch 37/100\n",
      "16/16 - 0s - 5ms/step - loss: 736.8829 - val_loss: 660.8996\n",
      "Epoch 38/100\n",
      "16/16 - 0s - 5ms/step - loss: 712.3672 - val_loss: 637.7365\n",
      "Epoch 39/100\n",
      "16/16 - 0s - 5ms/step - loss: 688.7253 - val_loss: 615.2123\n",
      "Epoch 40/100\n",
      "16/16 - 0s - 5ms/step - loss: 666.2563 - val_loss: 592.4104\n",
      "Epoch 41/100\n",
      "16/16 - 0s - 5ms/step - loss: 643.1726 - val_loss: 571.4257\n",
      "Epoch 42/100\n",
      "16/16 - 0s - 5ms/step - loss: 621.8629 - val_loss: 550.3187\n",
      "Epoch 43/100\n",
      "16/16 - 0s - 5ms/step - loss: 601.0122 - val_loss: 530.0129\n",
      "Epoch 44/100\n",
      "16/16 - 0s - 5ms/step - loss: 580.6406 - val_loss: 510.3057\n",
      "Epoch 45/100\n",
      "16/16 - 0s - 5ms/step - loss: 561.0189 - val_loss: 491.3733\n",
      "Epoch 46/100\n",
      "16/16 - 0s - 6ms/step - loss: 542.4489 - val_loss: 472.8847\n",
      "Epoch 47/100\n",
      "16/16 - 0s - 5ms/step - loss: 524.4872 - val_loss: 455.1153\n",
      "Epoch 48/100\n",
      "16/16 - 0s - 5ms/step - loss: 507.0940 - val_loss: 438.1825\n",
      "Epoch 49/100\n",
      "16/16 - 0s - 5ms/step - loss: 490.9380 - val_loss: 421.6000\n",
      "Epoch 50/100\n",
      "16/16 - 0s - 5ms/step - loss: 474.7380 - val_loss: 406.4338\n",
      "Epoch 51/100\n",
      "16/16 - 0s - 5ms/step - loss: 459.6721 - val_loss: 391.7934\n",
      "Epoch 52/100\n",
      "16/16 - 0s - 5ms/step - loss: 445.8192 - val_loss: 377.2442\n",
      "Epoch 53/100\n",
      "16/16 - 0s - 5ms/step - loss: 431.6284 - val_loss: 363.8172\n",
      "Epoch 54/100\n",
      "16/16 - 0s - 6ms/step - loss: 418.6372 - val_loss: 351.1124\n",
      "Epoch 55/100\n",
      "16/16 - 0s - 5ms/step - loss: 406.3230 - val_loss: 338.4559\n",
      "Epoch 56/100\n",
      "16/16 - 0s - 5ms/step - loss: 394.3707 - val_loss: 326.7066\n",
      "Epoch 57/100\n",
      "16/16 - 0s - 5ms/step - loss: 382.9928 - val_loss: 315.6906\n",
      "Epoch 58/100\n",
      "16/16 - 0s - 5ms/step - loss: 372.5164 - val_loss: 305.0422\n",
      "Epoch 59/100\n",
      "16/16 - 0s - 5ms/step - loss: 362.0070 - val_loss: 295.3503\n",
      "Epoch 60/100\n",
      "16/16 - 0s - 5ms/step - loss: 352.6871 - val_loss: 285.6952\n",
      "Epoch 61/100\n",
      "16/16 - 0s - 5ms/step - loss: 343.2927 - val_loss: 276.8152\n",
      "Epoch 62/100\n",
      "16/16 - 0s - 5ms/step - loss: 334.4661 - val_loss: 268.5940\n",
      "Epoch 63/100\n",
      "16/16 - 0s - 5ms/step - loss: 326.2208 - val_loss: 260.8068\n",
      "Epoch 64/100\n",
      "16/16 - 0s - 5ms/step - loss: 318.2318 - val_loss: 253.3831\n",
      "Epoch 65/100\n",
      "16/16 - 0s - 6ms/step - loss: 310.7462 - val_loss: 246.3529\n",
      "Epoch 66/100\n",
      "16/16 - 0s - 5ms/step - loss: 303.4910 - val_loss: 239.9816\n",
      "Epoch 67/100\n",
      "16/16 - 0s - 5ms/step - loss: 296.7846 - val_loss: 233.5955\n",
      "Epoch 68/100\n",
      "16/16 - 0s - 5ms/step - loss: 290.2203 - val_loss: 228.0355\n",
      "Epoch 69/100\n",
      "16/16 - 0s - 5ms/step - loss: 284.0233 - val_loss: 222.5507\n",
      "Epoch 70/100\n",
      "16/16 - 0s - 5ms/step - loss: 278.0831 - val_loss: 217.5798\n",
      "Epoch 71/100\n",
      "16/16 - 0s - 5ms/step - loss: 272.5845 - val_loss: 212.7384\n",
      "Epoch 72/100\n",
      "16/16 - 0s - 6ms/step - loss: 267.1256 - val_loss: 208.4957\n",
      "Epoch 73/100\n",
      "16/16 - 0s - 5ms/step - loss: 261.9216 - val_loss: 204.4087\n",
      "Epoch 74/100\n",
      "16/16 - 0s - 5ms/step - loss: 257.2113 - val_loss: 200.7084\n",
      "Epoch 75/100\n",
      "16/16 - 0s - 5ms/step - loss: 252.6894 - val_loss: 196.8284\n",
      "Epoch 76/100\n",
      "16/16 - 0s - 5ms/step - loss: 248.1320 - val_loss: 193.4535\n",
      "Epoch 77/100\n",
      "16/16 - 0s - 5ms/step - loss: 244.0780 - val_loss: 190.4859\n",
      "Epoch 78/100\n",
      "16/16 - 0s - 5ms/step - loss: 240.0194 - val_loss: 187.8541\n",
      "Epoch 79/100\n",
      "16/16 - 0s - 6ms/step - loss: 236.3079 - val_loss: 184.7460\n",
      "Epoch 80/100\n",
      "16/16 - 0s - 5ms/step - loss: 232.6082 - val_loss: 182.2778\n",
      "Epoch 81/100\n",
      "16/16 - 0s - 5ms/step - loss: 229.1321 - val_loss: 179.8509\n",
      "Epoch 82/100\n",
      "16/16 - 0s - 5ms/step - loss: 225.7038 - val_loss: 177.9188\n",
      "Epoch 83/100\n",
      "16/16 - 0s - 5ms/step - loss: 222.7239 - val_loss: 176.0922\n",
      "Epoch 84/100\n",
      "16/16 - 0s - 5ms/step - loss: 219.7838 - val_loss: 173.9830\n",
      "Epoch 85/100\n",
      "16/16 - 0s - 6ms/step - loss: 216.8062 - val_loss: 172.3168\n",
      "Epoch 86/100\n",
      "16/16 - 0s - 6ms/step - loss: 214.1448 - val_loss: 170.6186\n",
      "Epoch 87/100\n",
      "16/16 - 0s - 6ms/step - loss: 211.4680 - val_loss: 169.0890\n",
      "Epoch 88/100\n",
      "16/16 - 0s - 5ms/step - loss: 208.8772 - val_loss: 167.9392\n",
      "Epoch 89/100\n",
      "16/16 - 0s - 6ms/step - loss: 206.5423 - val_loss: 166.6050\n",
      "Epoch 90/100\n",
      "16/16 - 0s - 5ms/step - loss: 204.2133 - val_loss: 165.2836\n",
      "Epoch 91/100\n",
      "16/16 - 0s - 6ms/step - loss: 201.9192 - val_loss: 164.2536\n",
      "Epoch 92/100\n",
      "16/16 - 0s - 5ms/step - loss: 200.0353 - val_loss: 163.2218\n",
      "Epoch 93/100\n",
      "16/16 - 0s - 5ms/step - loss: 197.7379 - val_loss: 162.1956\n",
      "Epoch 94/100\n",
      "16/16 - 0s - 5ms/step - loss: 195.8178 - val_loss: 161.2227\n",
      "Epoch 95/100\n",
      "16/16 - 0s - 5ms/step - loss: 193.8584 - val_loss: 160.3130\n",
      "Epoch 96/100\n",
      "16/16 - 0s - 5ms/step - loss: 192.0675 - val_loss: 159.5555\n",
      "Epoch 97/100\n",
      "16/16 - 0s - 5ms/step - loss: 190.4098 - val_loss: 158.7414\n",
      "Epoch 98/100\n",
      "16/16 - 0s - 5ms/step - loss: 188.6092 - val_loss: 157.9481\n",
      "Epoch 99/100\n",
      "16/16 - 0s - 5ms/step - loss: 187.0865 - val_loss: 157.2894\n",
      "Epoch 100/100\n",
      "16/16 - 0s - 6ms/step - loss: 185.4644 - val_loss: 156.6246\n"
     ]
    },
    {
     "data": {
      "text/plain": [
       "<keras.src.callbacks.history.History at 0x25caddaac30>"
      ]
     },
     "execution_count": 69,
     "metadata": {},
     "output_type": "execute_result"
    }
   ],
   "source": [
    "model.fit(X_train, y_train, validation_split=0.3, epochs=100, verbose=2)"
   ]
  },
  {
   "cell_type": "markdown",
   "metadata": {},
   "source": [
    "3. Evaluate the model on the test data and compute the mean squared error between the predicted concrete strength and the actual concrete strength. You can use the mean_squared_error function from Scikit-learn."
   ]
  },
  {
   "cell_type": "code",
   "execution_count": 70,
   "metadata": {},
   "outputs": [
    {
     "name": "stdout",
     "output_type": "stream",
     "text": [
      "\u001b[1m10/10\u001b[0m \u001b[32m━━━━━━━━━━━━━━━━━━━━\u001b[0m\u001b[37m\u001b[0m \u001b[1m0s\u001b[0m 3ms/step \n",
      "Mean Squared Error on Test Data: 162.97280936486823\n"
     ]
    }
   ],
   "source": [
    "# Predict the target values using the model on the test set\n",
    "test_predictions = model.predict(X_test)\n",
    "\n",
    "# Compute the mean squared error on the test set\n",
    "test_mse = mean_squared_error(y_test, test_predictions)\n",
    "print(f\"Mean Squared Error on Test Data: {test_mse}\")"
   ]
  },
  {
   "cell_type": "markdown",
   "metadata": {},
   "source": [
    "4. Repeat steps 1 - 3, 50 times, i.e., create a list of 50 mean squared errors."
   ]
  },
  {
   "cell_type": "code",
   "execution_count": 71,
   "metadata": {},
   "outputs": [
    {
     "name": "stdout",
     "output_type": "stream",
     "text": [
      "\u001b[1m10/10\u001b[0m \u001b[32m━━━━━━━━━━━━━━━━━━━━\u001b[0m\u001b[37m\u001b[0m \u001b[1m0s\u001b[0m 3ms/step \n",
      "\u001b[1m10/10\u001b[0m \u001b[32m━━━━━━━━━━━━━━━━━━━━\u001b[0m\u001b[37m\u001b[0m \u001b[1m0s\u001b[0m 3ms/step \n",
      "\u001b[1m10/10\u001b[0m \u001b[32m━━━━━━━━━━━━━━━━━━━━\u001b[0m\u001b[37m\u001b[0m \u001b[1m0s\u001b[0m 3ms/step \n",
      "\u001b[1m10/10\u001b[0m \u001b[32m━━━━━━━━━━━━━━━━━━━━\u001b[0m\u001b[37m\u001b[0m \u001b[1m0s\u001b[0m 3ms/step \n",
      "\u001b[1m10/10\u001b[0m \u001b[32m━━━━━━━━━━━━━━━━━━━━\u001b[0m\u001b[37m\u001b[0m \u001b[1m0s\u001b[0m 3ms/step \n",
      "\u001b[1m10/10\u001b[0m \u001b[32m━━━━━━━━━━━━━━━━━━━━\u001b[0m\u001b[37m\u001b[0m \u001b[1m0s\u001b[0m 3ms/step \n",
      "\u001b[1m10/10\u001b[0m \u001b[32m━━━━━━━━━━━━━━━━━━━━\u001b[0m\u001b[37m\u001b[0m \u001b[1m0s\u001b[0m 3ms/step \n",
      "\u001b[1m10/10\u001b[0m \u001b[32m━━━━━━━━━━━━━━━━━━━━\u001b[0m\u001b[37m\u001b[0m \u001b[1m0s\u001b[0m 4ms/step \n",
      "\u001b[1m10/10\u001b[0m \u001b[32m━━━━━━━━━━━━━━━━━━━━\u001b[0m\u001b[37m\u001b[0m \u001b[1m0s\u001b[0m 3ms/step \n",
      "\u001b[1m10/10\u001b[0m \u001b[32m━━━━━━━━━━━━━━━━━━━━\u001b[0m\u001b[37m\u001b[0m \u001b[1m0s\u001b[0m 3ms/step \n",
      "\u001b[1m10/10\u001b[0m \u001b[32m━━━━━━━━━━━━━━━━━━━━\u001b[0m\u001b[37m\u001b[0m \u001b[1m0s\u001b[0m 3ms/step \n",
      "\u001b[1m10/10\u001b[0m \u001b[32m━━━━━━━━━━━━━━━━━━━━\u001b[0m\u001b[37m\u001b[0m \u001b[1m0s\u001b[0m 3ms/step \n",
      "\u001b[1m10/10\u001b[0m \u001b[32m━━━━━━━━━━━━━━━━━━━━\u001b[0m\u001b[37m\u001b[0m \u001b[1m0s\u001b[0m 3ms/step \n",
      "\u001b[1m10/10\u001b[0m \u001b[32m━━━━━━━━━━━━━━━━━━━━\u001b[0m\u001b[37m\u001b[0m \u001b[1m0s\u001b[0m 3ms/step \n",
      "\u001b[1m10/10\u001b[0m \u001b[32m━━━━━━━━━━━━━━━━━━━━\u001b[0m\u001b[37m\u001b[0m \u001b[1m0s\u001b[0m 3ms/step \n",
      "\u001b[1m10/10\u001b[0m \u001b[32m━━━━━━━━━━━━━━━━━━━━\u001b[0m\u001b[37m\u001b[0m \u001b[1m0s\u001b[0m 3ms/step \n",
      "\u001b[1m10/10\u001b[0m \u001b[32m━━━━━━━━━━━━━━━━━━━━\u001b[0m\u001b[37m\u001b[0m \u001b[1m0s\u001b[0m 3ms/step \n",
      "\u001b[1m10/10\u001b[0m \u001b[32m━━━━━━━━━━━━━━━━━━━━\u001b[0m\u001b[37m\u001b[0m \u001b[1m0s\u001b[0m 3ms/step \n",
      "\u001b[1m10/10\u001b[0m \u001b[32m━━━━━━━━━━━━━━━━━━━━\u001b[0m\u001b[37m\u001b[0m \u001b[1m0s\u001b[0m 3ms/step \n",
      "\u001b[1m10/10\u001b[0m \u001b[32m━━━━━━━━━━━━━━━━━━━━\u001b[0m\u001b[37m\u001b[0m \u001b[1m0s\u001b[0m 3ms/step \n",
      "\u001b[1m10/10\u001b[0m \u001b[32m━━━━━━━━━━━━━━━━━━━━\u001b[0m\u001b[37m\u001b[0m \u001b[1m0s\u001b[0m 3ms/step \n",
      "\u001b[1m10/10\u001b[0m \u001b[32m━━━━━━━━━━━━━━━━━━━━\u001b[0m\u001b[37m\u001b[0m \u001b[1m0s\u001b[0m 3ms/step \n",
      "\u001b[1m10/10\u001b[0m \u001b[32m━━━━━━━━━━━━━━━━━━━━\u001b[0m\u001b[37m\u001b[0m \u001b[1m0s\u001b[0m 3ms/step \n",
      "\u001b[1m10/10\u001b[0m \u001b[32m━━━━━━━━━━━━━━━━━━━━\u001b[0m\u001b[37m\u001b[0m \u001b[1m0s\u001b[0m 3ms/step \n",
      "\u001b[1m10/10\u001b[0m \u001b[32m━━━━━━━━━━━━━━━━━━━━\u001b[0m\u001b[37m\u001b[0m \u001b[1m0s\u001b[0m 4ms/step \n",
      "\u001b[1m10/10\u001b[0m \u001b[32m━━━━━━━━━━━━━━━━━━━━\u001b[0m\u001b[37m\u001b[0m \u001b[1m0s\u001b[0m 3ms/step \n",
      "\u001b[1m10/10\u001b[0m \u001b[32m━━━━━━━━━━━━━━━━━━━━\u001b[0m\u001b[37m\u001b[0m \u001b[1m0s\u001b[0m 4ms/step \n",
      "\u001b[1m10/10\u001b[0m \u001b[32m━━━━━━━━━━━━━━━━━━━━\u001b[0m\u001b[37m\u001b[0m \u001b[1m0s\u001b[0m 4ms/step \n",
      "\u001b[1m10/10\u001b[0m \u001b[32m━━━━━━━━━━━━━━━━━━━━\u001b[0m\u001b[37m\u001b[0m \u001b[1m0s\u001b[0m 3ms/step \n",
      "\u001b[1m10/10\u001b[0m \u001b[32m━━━━━━━━━━━━━━━━━━━━\u001b[0m\u001b[37m\u001b[0m \u001b[1m0s\u001b[0m 3ms/step \n",
      "\u001b[1m10/10\u001b[0m \u001b[32m━━━━━━━━━━━━━━━━━━━━\u001b[0m\u001b[37m\u001b[0m \u001b[1m0s\u001b[0m 3ms/step \n",
      "\u001b[1m10/10\u001b[0m \u001b[32m━━━━━━━━━━━━━━━━━━━━\u001b[0m\u001b[37m\u001b[0m \u001b[1m0s\u001b[0m 3ms/step \n",
      "\u001b[1m10/10\u001b[0m \u001b[32m━━━━━━━━━━━━━━━━━━━━\u001b[0m\u001b[37m\u001b[0m \u001b[1m0s\u001b[0m 3ms/step \n",
      "\u001b[1m10/10\u001b[0m \u001b[32m━━━━━━━━━━━━━━━━━━━━\u001b[0m\u001b[37m\u001b[0m \u001b[1m0s\u001b[0m 3ms/step \n",
      "\u001b[1m10/10\u001b[0m \u001b[32m━━━━━━━━━━━━━━━━━━━━\u001b[0m\u001b[37m\u001b[0m \u001b[1m0s\u001b[0m 3ms/step \n",
      "\u001b[1m10/10\u001b[0m \u001b[32m━━━━━━━━━━━━━━━━━━━━\u001b[0m\u001b[37m\u001b[0m \u001b[1m0s\u001b[0m 3ms/step \n",
      "\u001b[1m10/10\u001b[0m \u001b[32m━━━━━━━━━━━━━━━━━━━━\u001b[0m\u001b[37m\u001b[0m \u001b[1m0s\u001b[0m 3ms/step \n",
      "\u001b[1m10/10\u001b[0m \u001b[32m━━━━━━━━━━━━━━━━━━━━\u001b[0m\u001b[37m\u001b[0m \u001b[1m0s\u001b[0m 3ms/step \n",
      "\u001b[1m10/10\u001b[0m \u001b[32m━━━━━━━━━━━━━━━━━━━━\u001b[0m\u001b[37m\u001b[0m \u001b[1m0s\u001b[0m 3ms/step \n",
      "\u001b[1m10/10\u001b[0m \u001b[32m━━━━━━━━━━━━━━━━━━━━\u001b[0m\u001b[37m\u001b[0m \u001b[1m0s\u001b[0m 3ms/step \n",
      "\u001b[1m10/10\u001b[0m \u001b[32m━━━━━━━━━━━━━━━━━━━━\u001b[0m\u001b[37m\u001b[0m \u001b[1m0s\u001b[0m 3ms/step \n",
      "\u001b[1m10/10\u001b[0m \u001b[32m━━━━━━━━━━━━━━━━━━━━\u001b[0m\u001b[37m\u001b[0m \u001b[1m0s\u001b[0m 3ms/step \n",
      "\u001b[1m10/10\u001b[0m \u001b[32m━━━━━━━━━━━━━━━━━━━━\u001b[0m\u001b[37m\u001b[0m \u001b[1m0s\u001b[0m 3ms/step \n",
      "\u001b[1m10/10\u001b[0m \u001b[32m━━━━━━━━━━━━━━━━━━━━\u001b[0m\u001b[37m\u001b[0m \u001b[1m0s\u001b[0m 3ms/step \n",
      "\u001b[1m10/10\u001b[0m \u001b[32m━━━━━━━━━━━━━━━━━━━━\u001b[0m\u001b[37m\u001b[0m \u001b[1m0s\u001b[0m 3ms/step \n",
      "\u001b[1m10/10\u001b[0m \u001b[32m━━━━━━━━━━━━━━━━━━━━\u001b[0m\u001b[37m\u001b[0m \u001b[1m0s\u001b[0m 3ms/step \n",
      "\u001b[1m10/10\u001b[0m \u001b[32m━━━━━━━━━━━━━━━━━━━━\u001b[0m\u001b[37m\u001b[0m \u001b[1m0s\u001b[0m 3ms/step \n",
      "\u001b[1m10/10\u001b[0m \u001b[32m━━━━━━━━━━━━━━━━━━━━\u001b[0m\u001b[37m\u001b[0m \u001b[1m0s\u001b[0m 3ms/step \n",
      "\u001b[1m10/10\u001b[0m \u001b[32m━━━━━━━━━━━━━━━━━━━━\u001b[0m\u001b[37m\u001b[0m \u001b[1m0s\u001b[0m 3ms/step \n",
      "\u001b[1m10/10\u001b[0m \u001b[32m━━━━━━━━━━━━━━━━━━━━\u001b[0m\u001b[37m\u001b[0m \u001b[1m0s\u001b[0m 3ms/step \n",
      "[177.96740659990292, 181.100448203742, 190.6308471047461, 326.9390013197087, 348.8039191095396, 211.52973664749956, 202.30371722561847, 172.4926714798766, 224.24442082246415, 217.23319780924447, 218.34852665317428, 217.78872100964915, 165.37531477474042, 224.25080041394204, 201.90129067234844, 236.75792713541077, 216.51718023330562, 169.9064162629326, 199.58720406270862, 227.55437131235632, 207.9205316942323, 224.9630948116084, 261.62302794361113, 187.72431290948225, 181.97259809556581, 175.16742380759896, 183.26634707035498, 183.84677468111684, 163.9823280904351, 177.22867740303963, 167.12623834440572, 178.47578658651034, 208.45165484261486, 170.90321973519497, 279.1277238561785, 189.12147419950333, 264.52883304965695, 178.2744690048381, 199.57227628279574, 185.04350316061473, 216.26224091054786, 164.34204143021157, 285.86644042972114, 200.965806004836, 194.03775823144403, 248.89194862287283, 187.2906027594479, 217.42178793279172, 242.33352906041677, 195.2753413923393]\n"
     ]
    }
   ],
   "source": [
    "mse_list = []\n",
    "\n",
    "for _ in range(50):\n",
    "    # Split the data into training and test sets\n",
    "    X_train, X_test, y_train, y_test = train_test_split(predictors_norm, target, test_size=0.3, random_state=42)\n",
    "    \n",
    "    # Define and compile the model\n",
    "    model = regression_model_A()\n",
    "    \n",
    "    # Train the model on the training data using 50 epochs\n",
    "    model.fit(X_train, y_train, validation_split=0.3, epochs=100, verbose=0)\n",
    "    \n",
    "    # Predict the target values using the model on the test set\n",
    "    test_predictions = model.predict(X_test)\n",
    "    \n",
    "    # Compute the mean squared error on the test set\n",
    "    test_mse = mean_squared_error(y_test, test_predictions)\n",
    "    \n",
    "    # Append the mean squared error to the list\n",
    "    mse_list.append(test_mse)\n",
    "\n",
    "print(mse_list)"
   ]
  },
  {
   "cell_type": "markdown",
   "metadata": {},
   "source": [
    "5. Report the mean and the standard deviation of the mean squared errors."
   ]
  },
  {
   "cell_type": "code",
   "execution_count": 72,
   "metadata": {},
   "outputs": [
    {
     "name": "stdout",
     "output_type": "stream",
     "text": [
      "Mean of Mean Squared Errors: 209.044818223938\n",
      "Standard Deviation of Mean Squared Errors: 39.4607749314014\n"
     ]
    }
   ],
   "source": [
    "mean_mse_C = np.mean(mse_list)\n",
    "std_mse_C = np.std(mse_list)\n",
    "\n",
    "print(f\"Mean of Mean Squared Errors: {mean_mse_C}\")\n",
    "print(f\"Standard Deviation of Mean Squared Errors: {std_mse_C}\")"
   ]
  },
  {
   "cell_type": "markdown",
   "metadata": {},
   "source": [
    "How does the mean of the mean squared errors compare to that from Step B?"
   ]
  },
  {
   "cell_type": "code",
   "execution_count": 73,
   "metadata": {},
   "outputs": [
    {
     "name": "stdout",
     "output_type": "stream",
     "text": [
      "Mean of Mean Squared Errors: B -> 668.342718125996  C -> 209.044818223938\n",
      "Standard Deviation of Mean Squared Errors: B -> 144.3083488088387 C -> 39.4607749314014\n"
     ]
    }
   ],
   "source": [
    "print(f\"Mean of Mean Squared Errors: B -> {mean_mse_B}  C -> {mean_mse_C}\")\n",
    "print(f\"Standard Deviation of Mean Squared Errors: B -> {std_mse_B} C -> {std_mse_C}\")"
   ]
  },
  {
   "cell_type": "markdown",
   "metadata": {},
   "source": [
    "MSE and STD are lower for C then B. As the number of epochs increases, the model has more opportunities to learn from the training data. The optimization algorithm (e.g., gradient descent) adjusts the model parameters to minimize the error. Over time, this leads to a reduction in the difference between predicted and actual values, thus lowering the MSE."
   ]
  },
  {
   "cell_type": "markdown",
   "metadata": {},
   "source": [
    "## D. Increase the number of hidden layers"
   ]
  },
  {
   "cell_type": "markdown",
   "metadata": {},
   "source": [
    "Repeat part B but use a neural network with the following instead:\n",
    "\n",
    "- Three hidden layers, each of 10 nodes and ReLU activation function.\n"
   ]
  },
  {
   "cell_type": "code",
   "execution_count": 74,
   "metadata": {},
   "outputs": [],
   "source": [
    "# define regression model\n",
    "def regression_model_D():\n",
    "    # create model\n",
    "    model = Sequential()\n",
    "    model.add(Input(shape=(n_cols,)))\n",
    "    model.add(Dense(10, activation='relu'))\n",
    "    model.add(Dense(10, activation='relu'))\n",
    "    model.add(Dense(10, activation='relu'))\n",
    "    model.add(Dense(1))\n",
    "    \n",
    "    # compile model\n",
    "    model.compile(optimizer='adam', loss='mean_squared_error')\n",
    "    return model"
   ]
  },
  {
   "cell_type": "code",
   "execution_count": 75,
   "metadata": {},
   "outputs": [],
   "source": [
    "model = regression_model_D()"
   ]
  },
  {
   "cell_type": "markdown",
   "metadata": {},
   "source": [
    "1. Randomly split the data into a training and test sets by holding 30% of the data for testing. You can use the \n",
    "train_test_split\n",
    "helper function from Scikit-learn."
   ]
  },
  {
   "cell_type": "code",
   "execution_count": 76,
   "metadata": {},
   "outputs": [],
   "source": [
    "X_train, X_test, y_train, y_test = train_test_split(predictors_norm, target, test_size=0.3, random_state=42)"
   ]
  },
  {
   "cell_type": "markdown",
   "metadata": {},
   "source": [
    "2. Train the model on the training data using 50 epochs."
   ]
  },
  {
   "cell_type": "code",
   "execution_count": 77,
   "metadata": {},
   "outputs": [
    {
     "name": "stdout",
     "output_type": "stream",
     "text": [
      "Epoch 1/50\n"
     ]
    },
    {
     "name": "stdout",
     "output_type": "stream",
     "text": [
      "16/16 - 1s - 47ms/step - loss: 1597.3724 - val_loss: 1469.0820\n",
      "Epoch 2/50\n",
      "16/16 - 0s - 6ms/step - loss: 1577.9718 - val_loss: 1449.6204\n",
      "Epoch 3/50\n",
      "16/16 - 0s - 5ms/step - loss: 1555.4307 - val_loss: 1425.2338\n",
      "Epoch 4/50\n",
      "16/16 - 0s - 5ms/step - loss: 1525.5460 - val_loss: 1389.8326\n",
      "Epoch 5/50\n",
      "16/16 - 0s - 5ms/step - loss: 1480.6974 - val_loss: 1334.8832\n",
      "Epoch 6/50\n",
      "16/16 - 0s - 6ms/step - loss: 1411.7117 - val_loss: 1252.2467\n",
      "Epoch 7/50\n",
      "16/16 - 0s - 5ms/step - loss: 1309.6838 - val_loss: 1138.5823\n",
      "Epoch 8/50\n",
      "16/16 - 0s - 6ms/step - loss: 1173.8873 - val_loss: 988.5494\n",
      "Epoch 9/50\n",
      "16/16 - 0s - 5ms/step - loss: 1001.2271 - val_loss: 815.9957\n",
      "Epoch 10/50\n",
      "16/16 - 0s - 5ms/step - loss: 813.2767 - val_loss: 634.6534\n",
      "Epoch 11/50\n",
      "16/16 - 0s - 5ms/step - loss: 631.9526 - val_loss: 468.4355\n",
      "Epoch 12/50\n",
      "16/16 - 0s - 5ms/step - loss: 478.3200 - val_loss: 344.3091\n",
      "Epoch 13/50\n",
      "16/16 - 0s - 5ms/step - loss: 372.0749 - val_loss: 269.7076\n",
      "Epoch 14/50\n",
      "16/16 - 0s - 6ms/step - loss: 314.8802 - val_loss: 231.5936\n",
      "Epoch 15/50\n",
      "16/16 - 0s - 6ms/step - loss: 284.1937 - val_loss: 214.3829\n",
      "Epoch 16/50\n",
      "16/16 - 0s - 5ms/step - loss: 264.3005 - val_loss: 205.4133\n",
      "Epoch 17/50\n",
      "16/16 - 0s - 6ms/step - loss: 251.4909 - val_loss: 196.7647\n",
      "Epoch 18/50\n",
      "16/16 - 0s - 5ms/step - loss: 239.3737 - val_loss: 191.8654\n",
      "Epoch 19/50\n",
      "16/16 - 0s - 5ms/step - loss: 228.8820 - val_loss: 186.9218\n",
      "Epoch 20/50\n",
      "16/16 - 0s - 6ms/step - loss: 220.9559 - val_loss: 182.8220\n",
      "Epoch 21/50\n",
      "16/16 - 0s - 6ms/step - loss: 213.1235 - val_loss: 180.1863\n",
      "Epoch 22/50\n",
      "16/16 - 0s - 5ms/step - loss: 207.3578 - val_loss: 177.3778\n",
      "Epoch 23/50\n",
      "16/16 - 0s - 5ms/step - loss: 201.8201 - val_loss: 174.8945\n",
      "Epoch 24/50\n",
      "16/16 - 0s - 5ms/step - loss: 197.6531 - val_loss: 172.8094\n",
      "Epoch 25/50\n",
      "16/16 - 0s - 6ms/step - loss: 193.3758 - val_loss: 171.1135\n",
      "Epoch 26/50\n",
      "16/16 - 0s - 5ms/step - loss: 189.5799 - val_loss: 169.4582\n",
      "Epoch 27/50\n",
      "16/16 - 0s - 5ms/step - loss: 186.2162 - val_loss: 168.0125\n",
      "Epoch 28/50\n",
      "16/16 - 0s - 5ms/step - loss: 182.8940 - val_loss: 166.8322\n",
      "Epoch 29/50\n",
      "16/16 - 0s - 5ms/step - loss: 180.2206 - val_loss: 165.6634\n",
      "Epoch 30/50\n",
      "16/16 - 0s - 5ms/step - loss: 177.6316 - val_loss: 164.6642\n",
      "Epoch 31/50\n",
      "16/16 - 0s - 5ms/step - loss: 174.8120 - val_loss: 163.4732\n",
      "Epoch 32/50\n",
      "16/16 - 0s - 5ms/step - loss: 172.7586 - val_loss: 162.4064\n",
      "Epoch 33/50\n",
      "16/16 - 0s - 5ms/step - loss: 170.6001 - val_loss: 161.5507\n",
      "Epoch 34/50\n",
      "16/16 - 0s - 6ms/step - loss: 168.1928 - val_loss: 160.1567\n",
      "Epoch 35/50\n",
      "16/16 - 0s - 6ms/step - loss: 166.3658 - val_loss: 159.8863\n",
      "Epoch 36/50\n",
      "16/16 - 0s - 5ms/step - loss: 164.2839 - val_loss: 158.9070\n",
      "Epoch 37/50\n",
      "16/16 - 0s - 6ms/step - loss: 162.7804 - val_loss: 158.1582\n",
      "Epoch 38/50\n",
      "16/16 - 0s - 6ms/step - loss: 160.9152 - val_loss: 157.1446\n",
      "Epoch 39/50\n",
      "16/16 - 0s - 11ms/step - loss: 159.1696 - val_loss: 156.4873\n",
      "Epoch 40/50\n",
      "16/16 - 0s - 6ms/step - loss: 157.5936 - val_loss: 155.6313\n",
      "Epoch 41/50\n",
      "16/16 - 0s - 6ms/step - loss: 156.2424 - val_loss: 155.2953\n",
      "Epoch 42/50\n",
      "16/16 - 0s - 5ms/step - loss: 155.0274 - val_loss: 154.8004\n",
      "Epoch 43/50\n",
      "16/16 - 0s - 6ms/step - loss: 153.5854 - val_loss: 153.9082\n",
      "Epoch 44/50\n",
      "16/16 - 0s - 6ms/step - loss: 152.4448 - val_loss: 153.3828\n",
      "Epoch 45/50\n",
      "16/16 - 0s - 5ms/step - loss: 151.0220 - val_loss: 153.0563\n",
      "Epoch 46/50\n",
      "16/16 - 0s - 5ms/step - loss: 149.9297 - val_loss: 151.9964\n",
      "Epoch 47/50\n",
      "16/16 - 0s - 5ms/step - loss: 149.4226 - val_loss: 151.5058\n",
      "Epoch 48/50\n",
      "16/16 - 0s - 6ms/step - loss: 148.0171 - val_loss: 151.7256\n",
      "Epoch 49/50\n",
      "16/16 - 0s - 5ms/step - loss: 146.6611 - val_loss: 150.6944\n",
      "Epoch 50/50\n",
      "16/16 - 0s - 5ms/step - loss: 145.7589 - val_loss: 149.6268\n"
     ]
    },
    {
     "data": {
      "text/plain": [
       "<keras.src.callbacks.history.History at 0x25d740cf470>"
      ]
     },
     "execution_count": 77,
     "metadata": {},
     "output_type": "execute_result"
    }
   ],
   "source": [
    "model.fit(X_train, y_train, validation_split=0.3, epochs=50, verbose=2)"
   ]
  },
  {
   "cell_type": "markdown",
   "metadata": {},
   "source": [
    "3. Evaluate the model on the test data and compute the mean squared error between the predicted concrete strength and the actual concrete strength. You can use the mean_squared_error function from Scikit-learn."
   ]
  },
  {
   "cell_type": "code",
   "execution_count": 78,
   "metadata": {},
   "outputs": [
    {
     "name": "stdout",
     "output_type": "stream",
     "text": [
      "\u001b[1m10/10\u001b[0m \u001b[32m━━━━━━━━━━━━━━━━━━━━\u001b[0m\u001b[37m\u001b[0m \u001b[1m0s\u001b[0m 4ms/step \n",
      "Mean Squared Error on Test Data: 139.31341878532461\n"
     ]
    }
   ],
   "source": [
    "# Predict the target values using the model on the test set\n",
    "test_predictions = model.predict(X_test)\n",
    "\n",
    "# Compute the mean squared error on the test set\n",
    "test_mse = mean_squared_error(y_test, test_predictions)\n",
    "print(f\"Mean Squared Error on Test Data: {test_mse}\")"
   ]
  },
  {
   "cell_type": "markdown",
   "metadata": {},
   "source": [
    "4. Repeat steps 1 - 3, 50 times, i.e., create a list of 50 mean squared errors."
   ]
  },
  {
   "cell_type": "code",
   "execution_count": 79,
   "metadata": {},
   "outputs": [
    {
     "name": "stdout",
     "output_type": "stream",
     "text": [
      "\u001b[1m10/10\u001b[0m \u001b[32m━━━━━━━━━━━━━━━━━━━━\u001b[0m\u001b[37m\u001b[0m \u001b[1m0s\u001b[0m 4ms/step \n",
      "\u001b[1m10/10\u001b[0m \u001b[32m━━━━━━━━━━━━━━━━━━━━\u001b[0m\u001b[37m\u001b[0m \u001b[1m0s\u001b[0m 4ms/step \n",
      "\u001b[1m10/10\u001b[0m \u001b[32m━━━━━━━━━━━━━━━━━━━━\u001b[0m\u001b[37m\u001b[0m \u001b[1m0s\u001b[0m 4ms/step \n",
      "\u001b[1m10/10\u001b[0m \u001b[32m━━━━━━━━━━━━━━━━━━━━\u001b[0m\u001b[37m\u001b[0m \u001b[1m0s\u001b[0m 6ms/step \n",
      "\u001b[1m10/10\u001b[0m \u001b[32m━━━━━━━━━━━━━━━━━━━━\u001b[0m\u001b[37m\u001b[0m \u001b[1m0s\u001b[0m 4ms/step \n",
      "\u001b[1m10/10\u001b[0m \u001b[32m━━━━━━━━━━━━━━━━━━━━\u001b[0m\u001b[37m\u001b[0m \u001b[1m0s\u001b[0m 4ms/step \n",
      "\u001b[1m10/10\u001b[0m \u001b[32m━━━━━━━━━━━━━━━━━━━━\u001b[0m\u001b[37m\u001b[0m \u001b[1m0s\u001b[0m 4ms/step \n",
      "\u001b[1m10/10\u001b[0m \u001b[32m━━━━━━━━━━━━━━━━━━━━\u001b[0m\u001b[37m\u001b[0m \u001b[1m0s\u001b[0m 4ms/step \n",
      "\u001b[1m10/10\u001b[0m \u001b[32m━━━━━━━━━━━━━━━━━━━━\u001b[0m\u001b[37m\u001b[0m \u001b[1m0s\u001b[0m 4ms/step \n",
      "\u001b[1m10/10\u001b[0m \u001b[32m━━━━━━━━━━━━━━━━━━━━\u001b[0m\u001b[37m\u001b[0m \u001b[1m0s\u001b[0m 4ms/step \n",
      "\u001b[1m10/10\u001b[0m \u001b[32m━━━━━━━━━━━━━━━━━━━━\u001b[0m\u001b[37m\u001b[0m \u001b[1m0s\u001b[0m 5ms/step \n",
      "\u001b[1m10/10\u001b[0m \u001b[32m━━━━━━━━━━━━━━━━━━━━\u001b[0m\u001b[37m\u001b[0m \u001b[1m0s\u001b[0m 7ms/step \n",
      "\u001b[1m10/10\u001b[0m \u001b[32m━━━━━━━━━━━━━━━━━━━━\u001b[0m\u001b[37m\u001b[0m \u001b[1m0s\u001b[0m 4ms/step \n",
      "\u001b[1m10/10\u001b[0m \u001b[32m━━━━━━━━━━━━━━━━━━━━\u001b[0m\u001b[37m\u001b[0m \u001b[1m0s\u001b[0m 5ms/step \n",
      "\u001b[1m10/10\u001b[0m \u001b[32m━━━━━━━━━━━━━━━━━━━━\u001b[0m\u001b[37m\u001b[0m \u001b[1m0s\u001b[0m 4ms/step \n",
      "\u001b[1m10/10\u001b[0m \u001b[32m━━━━━━━━━━━━━━━━━━━━\u001b[0m\u001b[37m\u001b[0m \u001b[1m0s\u001b[0m 4ms/step \n",
      "\u001b[1m10/10\u001b[0m \u001b[32m━━━━━━━━━━━━━━━━━━━━\u001b[0m\u001b[37m\u001b[0m \u001b[1m0s\u001b[0m 4ms/step \n",
      "\u001b[1m10/10\u001b[0m \u001b[32m━━━━━━━━━━━━━━━━━━━━\u001b[0m\u001b[37m\u001b[0m \u001b[1m0s\u001b[0m 4ms/step \n",
      "\u001b[1m10/10\u001b[0m \u001b[32m━━━━━━━━━━━━━━━━━━━━\u001b[0m\u001b[37m\u001b[0m \u001b[1m0s\u001b[0m 4ms/step \n",
      "\u001b[1m10/10\u001b[0m \u001b[32m━━━━━━━━━━━━━━━━━━━━\u001b[0m\u001b[37m\u001b[0m \u001b[1m0s\u001b[0m 4ms/step \n",
      "\u001b[1m10/10\u001b[0m \u001b[32m━━━━━━━━━━━━━━━━━━━━\u001b[0m\u001b[37m\u001b[0m \u001b[1m0s\u001b[0m 4ms/step \n",
      "\u001b[1m10/10\u001b[0m \u001b[32m━━━━━━━━━━━━━━━━━━━━\u001b[0m\u001b[37m\u001b[0m \u001b[1m0s\u001b[0m 4ms/step \n",
      "\u001b[1m10/10\u001b[0m \u001b[32m━━━━━━━━━━━━━━━━━━━━\u001b[0m\u001b[37m\u001b[0m \u001b[1m0s\u001b[0m 5ms/step \n",
      "\u001b[1m10/10\u001b[0m \u001b[32m━━━━━━━━━━━━━━━━━━━━\u001b[0m\u001b[37m\u001b[0m \u001b[1m0s\u001b[0m 7ms/step \n",
      "\u001b[1m10/10\u001b[0m \u001b[32m━━━━━━━━━━━━━━━━━━━━\u001b[0m\u001b[37m\u001b[0m \u001b[1m0s\u001b[0m 7ms/step \n",
      "\u001b[1m10/10\u001b[0m \u001b[32m━━━━━━━━━━━━━━━━━━━━\u001b[0m\u001b[37m\u001b[0m \u001b[1m0s\u001b[0m 4ms/step \n",
      "\u001b[1m10/10\u001b[0m \u001b[32m━━━━━━━━━━━━━━━━━━━━\u001b[0m\u001b[37m\u001b[0m \u001b[1m0s\u001b[0m 5ms/step \n",
      "\u001b[1m10/10\u001b[0m \u001b[32m━━━━━━━━━━━━━━━━━━━━\u001b[0m\u001b[37m\u001b[0m \u001b[1m0s\u001b[0m 5ms/step \n",
      "\u001b[1m10/10\u001b[0m \u001b[32m━━━━━━━━━━━━━━━━━━━━\u001b[0m\u001b[37m\u001b[0m \u001b[1m0s\u001b[0m 4ms/step \n",
      "\u001b[1m10/10\u001b[0m \u001b[32m━━━━━━━━━━━━━━━━━━━━\u001b[0m\u001b[37m\u001b[0m \u001b[1m0s\u001b[0m 5ms/step \n",
      "\u001b[1m10/10\u001b[0m \u001b[32m━━━━━━━━━━━━━━━━━━━━\u001b[0m\u001b[37m\u001b[0m \u001b[1m0s\u001b[0m 5ms/step \n",
      "\u001b[1m10/10\u001b[0m \u001b[32m━━━━━━━━━━━━━━━━━━━━\u001b[0m\u001b[37m\u001b[0m \u001b[1m0s\u001b[0m 4ms/step \n",
      "\u001b[1m10/10\u001b[0m \u001b[32m━━━━━━━━━━━━━━━━━━━━\u001b[0m\u001b[37m\u001b[0m \u001b[1m0s\u001b[0m 4ms/step \n",
      "\u001b[1m10/10\u001b[0m \u001b[32m━━━━━━━━━━━━━━━━━━━━\u001b[0m\u001b[37m\u001b[0m \u001b[1m0s\u001b[0m 6ms/step \n",
      "\u001b[1m10/10\u001b[0m \u001b[32m━━━━━━━━━━━━━━━━━━━━\u001b[0m\u001b[37m\u001b[0m \u001b[1m0s\u001b[0m 4ms/step \n",
      "\u001b[1m10/10\u001b[0m \u001b[32m━━━━━━━━━━━━━━━━━━━━\u001b[0m\u001b[37m\u001b[0m \u001b[1m0s\u001b[0m 4ms/step \n",
      "\u001b[1m10/10\u001b[0m \u001b[32m━━━━━━━━━━━━━━━━━━━━\u001b[0m\u001b[37m\u001b[0m \u001b[1m0s\u001b[0m 4ms/step \n",
      "\u001b[1m10/10\u001b[0m \u001b[32m━━━━━━━━━━━━━━━━━━━━\u001b[0m\u001b[37m\u001b[0m \u001b[1m0s\u001b[0m 4ms/step \n",
      "\u001b[1m10/10\u001b[0m \u001b[32m━━━━━━━━━━━━━━━━━━━━\u001b[0m\u001b[37m\u001b[0m \u001b[1m0s\u001b[0m 5ms/step \n",
      "\u001b[1m10/10\u001b[0m \u001b[32m━━━━━━━━━━━━━━━━━━━━\u001b[0m\u001b[37m\u001b[0m \u001b[1m0s\u001b[0m 4ms/step \n",
      "\u001b[1m10/10\u001b[0m \u001b[32m━━━━━━━━━━━━━━━━━━━━\u001b[0m\u001b[37m\u001b[0m \u001b[1m0s\u001b[0m 4ms/step \n",
      "\u001b[1m10/10\u001b[0m \u001b[32m━━━━━━━━━━━━━━━━━━━━\u001b[0m\u001b[37m\u001b[0m \u001b[1m0s\u001b[0m 4ms/step \n",
      "\u001b[1m10/10\u001b[0m \u001b[32m━━━━━━━━━━━━━━━━━━━━\u001b[0m\u001b[37m\u001b[0m \u001b[1m0s\u001b[0m 4ms/step \n",
      "\u001b[1m10/10\u001b[0m \u001b[32m━━━━━━━━━━━━━━━━━━━━\u001b[0m\u001b[37m\u001b[0m \u001b[1m0s\u001b[0m 5ms/step \n",
      "\u001b[1m10/10\u001b[0m \u001b[32m━━━━━━━━━━━━━━━━━━━━\u001b[0m\u001b[37m\u001b[0m \u001b[1m0s\u001b[0m 5ms/step \n",
      "\u001b[1m10/10\u001b[0m \u001b[32m━━━━━━━━━━━━━━━━━━━━\u001b[0m\u001b[37m\u001b[0m \u001b[1m0s\u001b[0m 5ms/step \n",
      "\u001b[1m10/10\u001b[0m \u001b[32m━━━━━━━━━━━━━━━━━━━━\u001b[0m\u001b[37m\u001b[0m \u001b[1m0s\u001b[0m 4ms/step \n",
      "\u001b[1m10/10\u001b[0m \u001b[32m━━━━━━━━━━━━━━━━━━━━\u001b[0m\u001b[37m\u001b[0m \u001b[1m0s\u001b[0m 4ms/step \n",
      "\u001b[1m10/10\u001b[0m \u001b[32m━━━━━━━━━━━━━━━━━━━━\u001b[0m\u001b[37m\u001b[0m \u001b[1m0s\u001b[0m 4ms/step \n",
      "\u001b[1m10/10\u001b[0m \u001b[32m━━━━━━━━━━━━━━━━━━━━\u001b[0m\u001b[37m\u001b[0m \u001b[1m0s\u001b[0m 7ms/step \n",
      "[141.57021971377102, 146.45149891491346, 139.80541412490794, 142.5817185761941, 128.2326267857831, 139.7266657973808, 140.0840659869514, 141.17723157780634, 152.82362066227637, 125.50824759068243, 145.18346718279844, 125.59565643677209, 142.65800175620322, 138.816897112746, 156.47369289991104, 143.48110296042614, 152.2116024817783, 146.47638814947942, 156.32229290300253, 122.30793073588607, 136.22105580027593, 140.01430666889595, 152.95278907895948, 143.39991789998436, 135.7448372614097, 142.20284871233977, 168.25814108574758, 152.72664701228092, 133.61516080440748, 143.00587240710325, 140.5061057831242, 161.2183076645942, 143.03114159625179, 132.67318304406837, 155.73924279165317, 128.85749331480247, 133.75337082630705, 143.8627102312089, 146.10562614928003, 142.74198049872405, 148.99845497398684, 145.68964880588405, 145.3556794195708, 143.55286943907336, 124.35809622339157, 136.73636668131712, 139.8926761027717, 135.94198837099648, 141.66452842174158, 143.11283348873116]\n"
     ]
    }
   ],
   "source": [
    "mse_list = []\n",
    "\n",
    "for _ in range(50):\n",
    "    # Split the data into training and test sets\n",
    "    X_train, X_test, y_train, y_test = train_test_split(predictors_norm, target, test_size=0.3, random_state=42)\n",
    "    \n",
    "    # Define and compile the model\n",
    "    model = regression_model_D()\n",
    "    \n",
    "    # Train the model on the training data using 50 epochs\n",
    "    model.fit(X_train, y_train, validation_split=0.3, epochs=50, verbose=0)\n",
    "    \n",
    "    # Predict the target values using the model on the test set\n",
    "    test_predictions = model.predict(X_test)\n",
    "    \n",
    "    # Compute the mean squared error on the test set\n",
    "    test_mse = mean_squared_error(y_test, test_predictions)\n",
    "    \n",
    "    # Append the mean squared error to the list\n",
    "    mse_list.append(test_mse)\n",
    "\n",
    "print(mse_list)"
   ]
  },
  {
   "cell_type": "markdown",
   "metadata": {},
   "source": [
    "5. Report the mean and the standard deviation of the mean squared errors."
   ]
  },
  {
   "cell_type": "code",
   "execution_count": 80,
   "metadata": {},
   "outputs": [
    {
     "name": "stdout",
     "output_type": "stream",
     "text": [
      "Mean of Mean Squared Errors: 142.18844445817106\n",
      "Standard Deviation of Mean Squared Errors: 9.243666780881314\n"
     ]
    }
   ],
   "source": [
    "mean_mse_D = np.mean(mse_list)\n",
    "std_mse_D = np.std(mse_list)\n",
    "\n",
    "print(f\"Mean of Mean Squared Errors: {mean_mse_D}\")\n",
    "print(f\"Standard Deviation of Mean Squared Errors: {std_mse_D}\")"
   ]
  },
  {
   "cell_type": "markdown",
   "metadata": {},
   "source": [
    "How does the mean of the mean squared errors compare to that from Step B?"
   ]
  },
  {
   "cell_type": "code",
   "execution_count": 81,
   "metadata": {},
   "outputs": [
    {
     "name": "stdout",
     "output_type": "stream",
     "text": [
      "Mean of Mean Squared Errors: B -> 668.342718125996 D -> 142.18844445817106\n"
     ]
    }
   ],
   "source": [
    "print(f\"Mean of Mean Squared Errors: B -> {mean_mse_B} D -> {mean_mse_D}\")"
   ]
  },
  {
   "cell_type": "markdown",
   "metadata": {},
   "source": [
    "MSE is reduced for D as more hidden layers allow the network to learn more complex patterns and representations in the data. This increased capacity can lead to better fitting of the training data, thereby reducing the error."
   ]
  },
  {
   "cell_type": "code",
   "execution_count": 82,
   "metadata": {},
   "outputs": [
    {
     "name": "stdout",
     "output_type": "stream",
     "text": [
      "              A           B           C           D\n",
      "MSE  515.184898  668.342718  209.044818  142.188444\n",
      "STD  935.548841  144.308349   39.460775    9.243667\n"
     ]
    }
   ],
   "source": [
    "import pandas as pd\n",
    "\n",
    "# Create a dictionary with the data\n",
    "data = {\n",
    "    'A': [mean_mse_A, std_mse_A],\n",
    "    'B': [mean_mse_B, std_mse_B],\n",
    "    'C': [mean_mse_C, std_mse_C],\n",
    "    'D': [mean_mse_D, std_mse_D]\n",
    "}\n",
    "\n",
    "# Create a DataFrame\n",
    "df_results = pd.DataFrame(data, index=['MSE', 'STD'])\n",
    "\n",
    "# Print the DataFrame\n",
    "print(df_results)"
   ]
  }
 ],
 "metadata": {
  "kernelspec": {
   "display_name": ".venv",
   "language": "python",
   "name": "python3"
  },
  "language_info": {
   "codemirror_mode": {
    "name": "ipython",
    "version": 3
   },
   "file_extension": ".py",
   "mimetype": "text/x-python",
   "name": "python",
   "nbconvert_exporter": "python",
   "pygments_lexer": "ipython3",
   "version": "3.12.8"
  }
 },
 "nbformat": 4,
 "nbformat_minor": 2
}
